{
 "cells": [
  {
   "cell_type": "code",
   "execution_count": 1,
   "id": "collected-brave",
   "metadata": {},
   "outputs": [],
   "source": [
    "from bswrangler import *"
   ]
  },
  {
   "cell_type": "code",
   "execution_count": 2,
   "id": "amber-draft",
   "metadata": {},
   "outputs": [],
   "source": [
    " df = query_database('NYY_NYM_2020', '''\n",
    "                        SELECT player_name, pitcher, game_date, game_type, home_team,\n",
    "                        away_team, pitch_type, pitch_name, release_speed,\n",
    "                        release_spin_rate, events, type, description, zone,\n",
    "                        release_pos_x, release_pos_z, pfx_x, pfx_z, plate_x, plate_z,\n",
    "                        release_extension, vx0, vy0, vz0, ax, ay, az\n",
    "                        FROM statcast\n",
    "                        WHERE pitch_type IS NOT NULL; ''')"
   ]
  },
  {
   "cell_type": "code",
   "execution_count": 3,
   "id": "martial-appendix",
   "metadata": {},
   "outputs": [
    {
     "name": "stdout",
     "output_type": "stream",
     "text": [
      "<class 'pandas.core.frame.DataFrame'>\n",
      "RangeIndex: 17566 entries, 0 to 17565\n",
      "Data columns (total 27 columns):\n",
      " #   Column             Non-Null Count  Dtype  \n",
      "---  ------             --------------  -----  \n",
      " 0   player_name        17566 non-null  object \n",
      " 1   pitcher            17566 non-null  int64  \n",
      " 2   game_date          17566 non-null  object \n",
      " 3   game_type          17566 non-null  object \n",
      " 4   home_team          17566 non-null  object \n",
      " 5   away_team          17566 non-null  object \n",
      " 6   pitch_type         17566 non-null  object \n",
      " 7   pitch_name         17566 non-null  object \n",
      " 8   release_speed      17566 non-null  float64\n",
      " 9   release_spin_rate  17565 non-null  float64\n",
      " 10  events             4391 non-null   object \n",
      " 11  type               17566 non-null  object \n",
      " 12  description        17566 non-null  object \n",
      " 13  zone               17566 non-null  int64  \n",
      " 14  release_pos_x      17566 non-null  float64\n",
      " 15  release_pos_z      17566 non-null  float64\n",
      " 16  pfx_x              17566 non-null  float64\n",
      " 17  pfx_z              17566 non-null  float64\n",
      " 18  plate_x            17566 non-null  float64\n",
      " 19  plate_z            17566 non-null  float64\n",
      " 20  release_extension  17564 non-null  float64\n",
      " 21  vx0                17566 non-null  float64\n",
      " 22  vy0                17566 non-null  float64\n",
      " 23  vz0                17566 non-null  float64\n",
      " 24  ax                 17566 non-null  float64\n",
      " 25  ay                 17566 non-null  float64\n",
      " 26  az                 17566 non-null  float64\n",
      "dtypes: float64(15), int64(2), object(10)\n",
      "memory usage: 3.6+ MB\n"
     ]
    }
   ],
   "source": [
    "df.info()"
   ]
  },
  {
   "cell_type": "code",
   "execution_count": 4,
   "id": "communist-scheduling",
   "metadata": {},
   "outputs": [],
   "source": [
    "make_datetime(df)"
   ]
  },
  {
   "cell_type": "code",
   "execution_count": 5,
   "id": "present-chapter",
   "metadata": {},
   "outputs": [
    {
     "data": {
      "text/html": [
       "<div>\n",
       "<style scoped>\n",
       "    .dataframe tbody tr th:only-of-type {\n",
       "        vertical-align: middle;\n",
       "    }\n",
       "\n",
       "    .dataframe tbody tr th {\n",
       "        vertical-align: top;\n",
       "    }\n",
       "\n",
       "    .dataframe thead th {\n",
       "        text-align: right;\n",
       "    }\n",
       "</style>\n",
       "<table border=\"1\" class=\"dataframe\">\n",
       "  <thead>\n",
       "    <tr style=\"text-align: right;\">\n",
       "      <th></th>\n",
       "      <th>player_name</th>\n",
       "      <th>pitcher</th>\n",
       "      <th>game_date</th>\n",
       "      <th>game_type</th>\n",
       "      <th>home_team</th>\n",
       "      <th>away_team</th>\n",
       "      <th>pitch_type</th>\n",
       "      <th>pitch_name</th>\n",
       "      <th>release_speed</th>\n",
       "      <th>release_spin_rate</th>\n",
       "      <th>...</th>\n",
       "      <th>pfx_z</th>\n",
       "      <th>plate_x</th>\n",
       "      <th>plate_z</th>\n",
       "      <th>release_extension</th>\n",
       "      <th>vx0</th>\n",
       "      <th>vy0</th>\n",
       "      <th>vz0</th>\n",
       "      <th>ax</th>\n",
       "      <th>ay</th>\n",
       "      <th>az</th>\n",
       "    </tr>\n",
       "  </thead>\n",
       "  <tbody>\n",
       "    <tr>\n",
       "      <th>2000</th>\n",
       "      <td>Michael King</td>\n",
       "      <td>650633</td>\n",
       "      <td>2020-08-30</td>\n",
       "      <td>R</td>\n",
       "      <td>NYY</td>\n",
       "      <td>NYM</td>\n",
       "      <td>CS</td>\n",
       "      <td>Curveball</td>\n",
       "      <td>56.7</td>\n",
       "      <td>1108.0</td>\n",
       "      <td>...</td>\n",
       "      <td>1.5</td>\n",
       "      <td>0.22</td>\n",
       "      <td>6.37</td>\n",
       "      <td>7.0</td>\n",
       "      <td>2.605929</td>\n",
       "      <td>-81.977472</td>\n",
       "      <td>8.225544</td>\n",
       "      <td>-0.508284</td>\n",
       "      <td>11.843688</td>\n",
       "      <td>-26.880928</td>\n",
       "    </tr>\n",
       "  </tbody>\n",
       "</table>\n",
       "<p>1 rows × 27 columns</p>\n",
       "</div>"
      ],
      "text/plain": [
       "       player_name  pitcher  game_date game_type home_team away_team  \\\n",
       "2000  Michael King   650633 2020-08-30         R       NYY       NYM   \n",
       "\n",
       "     pitch_type pitch_name  release_speed  release_spin_rate  ... pfx_z  \\\n",
       "2000         CS  Curveball           56.7             1108.0  ...   1.5   \n",
       "\n",
       "     plate_x plate_z  release_extension       vx0        vy0       vz0  \\\n",
       "2000    0.22    6.37                7.0  2.605929 -81.977472  8.225544   \n",
       "\n",
       "            ax         ay         az  \n",
       "2000 -0.508284  11.843688 -26.880928  \n",
       "\n",
       "[1 rows x 27 columns]"
      ]
     },
     "execution_count": 5,
     "metadata": {},
     "output_type": "execute_result"
    }
   ],
   "source": [
    "df[df.pitch_type == 'CS']"
   ]
  },
  {
   "cell_type": "code",
   "execution_count": 6,
   "id": "played-korean",
   "metadata": {},
   "outputs": [],
   "source": [
    "rename_to_curveball(df, [2000])"
   ]
  },
  {
   "cell_type": "code",
   "execution_count": 7,
   "id": "extended-struggle",
   "metadata": {},
   "outputs": [],
   "source": [
    "change_values(df, 'events', ['caught_stealing_2b', 'caught_stealing_3b',\n",
    "                             'pickoff_caught_stealing_2b', 'run', 'pickoff_2b',\n",
    "                             'other_out', 'strikeout_double_play', 'interf_def',\n",
    "                             'fielders_choice_out', 'fielders_choice',\n",
    "                             'grounded_into_double_play', 'force_out', 'double_play',\n",
    "                             'sac_bunt', 'sac_fly', 'hit_by_pitch'],\n",
    "              [None, None, None, None, None, None, 'strikeout', 'field_error',\n",
    "               'field_out', 'field_out', 'field_out', 'field_out', 'field_out',\n",
    "               'field_out', 'field_out', 'walk'])\n",
    "\n",
    "change_values(df, 'description', ['foul_bunt', 'swinging_strike_blocked',\n",
    "                                  'missed_bunt','foul_tip', 'foul', 'blocked_ball',\n",
    "                                  'pitchout'], \n",
    "              ['swinging_strike', 'swinging_strike', 'swinging_strike', 'swinging_strike',\n",
    "               'swinging_strike','ball', 'ball'])"
   ]
  },
  {
   "cell_type": "code",
   "execution_count": 8,
   "id": "german-daily",
   "metadata": {},
   "outputs": [
    {
     "data": {
      "text/plain": [
       "array(['swinging_strike', 'ball', 'hit_into_play', 'called_strike',\n",
       "       'hit_into_play_no_out', 'hit_into_play_score', 'hit_by_pitch'],\n",
       "      dtype=object)"
      ]
     },
     "execution_count": 8,
     "metadata": {},
     "output_type": "execute_result"
    }
   ],
   "source": [
    "df.description.unique()"
   ]
  },
  {
   "cell_type": "code",
   "execution_count": 9,
   "id": "prospective-lesbian",
   "metadata": {},
   "outputs": [
    {
     "data": {
      "text/plain": [
       "array(['strikeout', None, 'field_out', 'single', 'home_run', 'walk',\n",
       "       'double', 'field_error', 'triple'], dtype=object)"
      ]
     },
     "execution_count": 9,
     "metadata": {},
     "output_type": "execute_result"
    }
   ],
   "source": [
    "df.events.unique()"
   ]
  },
  {
   "cell_type": "code",
   "execution_count": 10,
   "id": "destroyed-crossing",
   "metadata": {},
   "outputs": [
    {
     "name": "stderr",
     "output_type": "stream",
     "text": [
      "/Users/stevennewton/Documents/GitHub/MLB_Statcast/src/bswrangler.py:66: SettingWithCopyWarning: \n",
      "A value is trying to be set on a copy of a slice from a DataFrame\n",
      "\n",
      "See the caveats in the documentation: https://pandas.pydata.org/pandas-docs/stable/user_guide/indexing.html#returning-a-view-versus-a-copy\n",
      "  df[\"events\"][ix] = 'called_' + df[\"events\"][ix]\n"
     ]
    }
   ],
   "source": [
    "backwards_k(df)"
   ]
  },
  {
   "cell_type": "code",
   "execution_count": 11,
   "id": "educational-security",
   "metadata": {},
   "outputs": [
    {
     "name": "stderr",
     "output_type": "stream",
     "text": [
      "/Users/stevennewton/Documents/GitHub/MLB_Statcast/src/bswrangler.py:76: SettingWithCopyWarning: \n",
      "A value is trying to be set on a copy of a slice from a DataFrame\n",
      "\n",
      "See the caveats in the documentation: https://pandas.pydata.org/pandas-docs/stable/user_guide/indexing.html#returning-a-view-versus-a-copy\n",
      "  df[col_to_fill][ix] = df[col_to_fill_from][ix]\n"
     ]
    }
   ],
   "source": [
    "backfiller(df, \"events\", \"description\")"
   ]
  },
  {
   "cell_type": "code",
   "execution_count": 12,
   "id": "amateur-lexington",
   "metadata": {},
   "outputs": [
    {
     "data": {
      "text/plain": [
       "0           strikeout\n",
       "1                ball\n",
       "2     swinging_strike\n",
       "3     swinging_strike\n",
       "4           field_out\n",
       "5       called_strike\n",
       "6           field_out\n",
       "7           field_out\n",
       "8     swinging_strike\n",
       "9     swinging_strike\n",
       "10               ball\n",
       "11      called_strike\n",
       "12          field_out\n",
       "13               ball\n",
       "14               ball\n",
       "15             single\n",
       "16               ball\n",
       "17    swinging_strike\n",
       "18    swinging_strike\n",
       "19               ball\n",
       "Name: events, dtype: object"
      ]
     },
     "execution_count": 12,
     "metadata": {},
     "output_type": "execute_result"
    }
   ],
   "source": [
    "df.events[:20]"
   ]
  },
  {
   "cell_type": "code",
   "execution_count": 13,
   "id": "signed-valentine",
   "metadata": {},
   "outputs": [],
   "source": [
    "df = onehot_encode(df, 'pitch_type')"
   ]
  },
  {
   "cell_type": "code",
   "execution_count": 14,
   "id": "impressed-rouge",
   "metadata": {},
   "outputs": [],
   "source": [
    "df = onehot_encode(df, 'events')"
   ]
  },
  {
   "cell_type": "code",
   "execution_count": 15,
   "id": "chief-professional",
   "metadata": {},
   "outputs": [],
   "source": [
    "df = drop_columns(df, ['description', 'pitch_type', 'pitch_name'])"
   ]
  },
  {
   "cell_type": "code",
   "execution_count": 16,
   "id": "dominant-correlation",
   "metadata": {},
   "outputs": [
    {
     "name": "stdout",
     "output_type": "stream",
     "text": [
      "<class 'pandas.core.frame.DataFrame'>\n",
      "RangeIndex: 17566 entries, 0 to 17565\n",
      "Data columns (total 45 columns):\n",
      " #   Column             Non-Null Count  Dtype         \n",
      "---  ------             --------------  -----         \n",
      " 0   player_name        17566 non-null  object        \n",
      " 1   pitcher            17566 non-null  int64         \n",
      " 2   game_date          17566 non-null  datetime64[ns]\n",
      " 3   game_type          17566 non-null  object        \n",
      " 4   home_team          17566 non-null  object        \n",
      " 5   away_team          17566 non-null  object        \n",
      " 6   release_speed      17566 non-null  float64       \n",
      " 7   release_spin_rate  17565 non-null  float64       \n",
      " 8   events             17566 non-null  object        \n",
      " 9   type               17566 non-null  object        \n",
      " 10  zone               17566 non-null  int64         \n",
      " 11  release_pos_x      17566 non-null  float64       \n",
      " 12  release_pos_z      17566 non-null  float64       \n",
      " 13  pfx_x              17566 non-null  float64       \n",
      " 14  pfx_z              17566 non-null  float64       \n",
      " 15  plate_x            17566 non-null  float64       \n",
      " 16  plate_z            17566 non-null  float64       \n",
      " 17  release_extension  17564 non-null  float64       \n",
      " 18  vx0                17566 non-null  float64       \n",
      " 19  vy0                17566 non-null  float64       \n",
      " 20  vz0                17566 non-null  float64       \n",
      " 21  ax                 17566 non-null  float64       \n",
      " 22  ay                 17566 non-null  float64       \n",
      " 23  az                 17566 non-null  float64       \n",
      " 24  CH                 17566 non-null  int64         \n",
      " 25  CU                 17566 non-null  int64         \n",
      " 26  FC                 17566 non-null  int64         \n",
      " 27  FF                 17566 non-null  int64         \n",
      " 28  FS                 17566 non-null  int64         \n",
      " 29  KC                 17566 non-null  int64         \n",
      " 30  KN                 17566 non-null  int64         \n",
      " 31  SI                 17566 non-null  int64         \n",
      " 32  SL                 17566 non-null  int64         \n",
      " 33  ball               17566 non-null  int64         \n",
      " 34  called_strike      17566 non-null  int64         \n",
      " 35  called_strikeout   17566 non-null  int64         \n",
      " 36  double             17566 non-null  int64         \n",
      " 37  field_error        17566 non-null  int64         \n",
      " 38  field_out          17566 non-null  int64         \n",
      " 39  home_run           17566 non-null  int64         \n",
      " 40  single             17566 non-null  int64         \n",
      " 41  strikeout          17566 non-null  int64         \n",
      " 42  swinging_strike    17566 non-null  int64         \n",
      " 43  triple             17566 non-null  int64         \n",
      " 44  walk               17566 non-null  int64         \n",
      "dtypes: datetime64[ns](1), float64(15), int64(23), object(6)\n",
      "memory usage: 6.0+ MB\n"
     ]
    }
   ],
   "source": [
    "df.info()"
   ]
  },
  {
   "cell_type": "code",
   "execution_count": 17,
   "id": "absent-evolution",
   "metadata": {},
   "outputs": [
    {
     "ename": "TypeError",
     "evalue": "argument of type 'method' is not iterable",
     "output_type": "error",
     "traceback": [
      "\u001b[0;31m---------------------------------------------------------------------------\u001b[0m",
      "\u001b[0;31mTypeError\u001b[0m                                 Traceback (most recent call last)",
      "\u001b[0;32m<ipython-input-17-bb0447ec2c48>\u001b[0m in \u001b[0;36m<module>\u001b[0;34m\u001b[0m\n\u001b[0;32m----> 1\u001b[0;31m \u001b[0msave_df\u001b[0m\u001b[0;34m(\u001b[0m\u001b[0mdf\u001b[0m\u001b[0;34m,\u001b[0m \u001b[0;34m\"NYY_NYM_2020\"\u001b[0m\u001b[0;34m)\u001b[0m\u001b[0;34m\u001b[0m\u001b[0;34m\u001b[0m\u001b[0m\n\u001b[0m",
      "\u001b[0;32m~/Documents/GitHub/MLB_Statcast/src/bswrangler.py\u001b[0m in \u001b[0;36msave_df\u001b[0;34m(df, file_name)\u001b[0m\n\u001b[1;32m     91\u001b[0m     \u001b[0mArgs\u001b[0m\u001b[0;34m:\u001b[0m \u001b[0mdf\u001b[0m\u001b[0;34m,\u001b[0m \u001b[0mstr\u001b[0m\u001b[0;34m\u001b[0m\u001b[0;34m\u001b[0m\u001b[0m\n\u001b[1;32m     92\u001b[0m     '''\n\u001b[0;32m---> 93\u001b[0;31m     \u001b[0mdf\u001b[0m\u001b[0;34m.\u001b[0m\u001b[0mto_csv\u001b[0m\u001b[0;34m(\u001b[0m\u001b[0mdf\u001b[0m\u001b[0;34m,\u001b[0m \u001b[0;34mf'{file_name}.csv'\u001b[0m\u001b[0;34m,\u001b[0m \u001b[0mindex\u001b[0m\u001b[0;34m=\u001b[0m\u001b[0;32mFalse\u001b[0m\u001b[0;34m)\u001b[0m\u001b[0;34m\u001b[0m\u001b[0;34m\u001b[0m\u001b[0m\n\u001b[0m\u001b[1;32m     94\u001b[0m \u001b[0;34m\u001b[0m\u001b[0m\n\u001b[1;32m     95\u001b[0m \u001b[0;34m\u001b[0m\u001b[0m\n",
      "\u001b[0;32m~/opt/anaconda3/lib/python3.8/site-packages/pandas/core/generic.py\u001b[0m in \u001b[0;36mto_csv\u001b[0;34m(self, path_or_buf, sep, na_rep, float_format, columns, header, index, index_label, mode, encoding, compression, quoting, quotechar, line_terminator, chunksize, date_format, doublequote, escapechar, decimal, errors, storage_options)\u001b[0m\n\u001b[1;32m   3384\u001b[0m         )\n\u001b[1;32m   3385\u001b[0m \u001b[0;34m\u001b[0m\u001b[0m\n\u001b[0;32m-> 3386\u001b[0;31m         return DataFrameRenderer(formatter).to_csv(\n\u001b[0m\u001b[1;32m   3387\u001b[0m             \u001b[0mpath_or_buf\u001b[0m\u001b[0;34m,\u001b[0m\u001b[0;34m\u001b[0m\u001b[0;34m\u001b[0m\u001b[0m\n\u001b[1;32m   3388\u001b[0m             \u001b[0mline_terminator\u001b[0m\u001b[0;34m=\u001b[0m\u001b[0mline_terminator\u001b[0m\u001b[0;34m,\u001b[0m\u001b[0;34m\u001b[0m\u001b[0;34m\u001b[0m\u001b[0m\n",
      "\u001b[0;32m~/opt/anaconda3/lib/python3.8/site-packages/pandas/io/formats/format.py\u001b[0m in \u001b[0;36mto_csv\u001b[0;34m(self, path_or_buf, encoding, sep, columns, index_label, mode, compression, quoting, quotechar, line_terminator, chunksize, date_format, doublequote, escapechar, errors, storage_options)\u001b[0m\n\u001b[1;32m   1081\u001b[0m             \u001b[0mformatter\u001b[0m\u001b[0;34m=\u001b[0m\u001b[0mself\u001b[0m\u001b[0;34m.\u001b[0m\u001b[0mfmt\u001b[0m\u001b[0;34m,\u001b[0m\u001b[0;34m\u001b[0m\u001b[0;34m\u001b[0m\u001b[0m\n\u001b[1;32m   1082\u001b[0m         )\n\u001b[0;32m-> 1083\u001b[0;31m         \u001b[0mcsv_formatter\u001b[0m\u001b[0;34m.\u001b[0m\u001b[0msave\u001b[0m\u001b[0;34m(\u001b[0m\u001b[0;34m)\u001b[0m\u001b[0;34m\u001b[0m\u001b[0;34m\u001b[0m\u001b[0m\n\u001b[0m\u001b[1;32m   1084\u001b[0m \u001b[0;34m\u001b[0m\u001b[0m\n\u001b[1;32m   1085\u001b[0m         \u001b[0;32mif\u001b[0m \u001b[0mcreated_buffer\u001b[0m\u001b[0;34m:\u001b[0m\u001b[0;34m\u001b[0m\u001b[0;34m\u001b[0m\u001b[0m\n",
      "\u001b[0;32m~/opt/anaconda3/lib/python3.8/site-packages/pandas/io/formats/csvs.py\u001b[0m in \u001b[0;36msave\u001b[0;34m(self)\u001b[0m\n\u001b[1;32m    226\u001b[0m         \"\"\"\n\u001b[1;32m    227\u001b[0m         \u001b[0;31m# apply compression and byte/text conversion\u001b[0m\u001b[0;34m\u001b[0m\u001b[0;34m\u001b[0m\u001b[0;34m\u001b[0m\u001b[0m\n\u001b[0;32m--> 228\u001b[0;31m         with get_handle(\n\u001b[0m\u001b[1;32m    229\u001b[0m             \u001b[0mself\u001b[0m\u001b[0;34m.\u001b[0m\u001b[0mfilepath_or_buffer\u001b[0m\u001b[0;34m,\u001b[0m\u001b[0;34m\u001b[0m\u001b[0;34m\u001b[0m\u001b[0m\n\u001b[1;32m    230\u001b[0m             \u001b[0mself\u001b[0m\u001b[0;34m.\u001b[0m\u001b[0mmode\u001b[0m\u001b[0;34m,\u001b[0m\u001b[0;34m\u001b[0m\u001b[0;34m\u001b[0m\u001b[0m\n",
      "\u001b[0;32m~/opt/anaconda3/lib/python3.8/site-packages/pandas/io/common.py\u001b[0m in \u001b[0;36mget_handle\u001b[0;34m(path_or_buf, mode, encoding, compression, memory_map, is_text, errors, storage_options)\u001b[0m\n\u001b[1;32m    552\u001b[0m \u001b[0;34m\u001b[0m\u001b[0m\n\u001b[1;32m    553\u001b[0m     \u001b[0;31m# read_csv does not know whether the buffer is opened in binary/text mode\u001b[0m\u001b[0;34m\u001b[0m\u001b[0;34m\u001b[0m\u001b[0;34m\u001b[0m\u001b[0m\n\u001b[0;32m--> 554\u001b[0;31m     \u001b[0;32mif\u001b[0m \u001b[0m_is_binary_mode\u001b[0m\u001b[0;34m(\u001b[0m\u001b[0mpath_or_buf\u001b[0m\u001b[0;34m,\u001b[0m \u001b[0mmode\u001b[0m\u001b[0;34m)\u001b[0m \u001b[0;32mand\u001b[0m \u001b[0;34m\"b\"\u001b[0m \u001b[0;32mnot\u001b[0m \u001b[0;32min\u001b[0m \u001b[0mmode\u001b[0m\u001b[0;34m:\u001b[0m\u001b[0;34m\u001b[0m\u001b[0;34m\u001b[0m\u001b[0m\n\u001b[0m\u001b[1;32m    555\u001b[0m         \u001b[0mmode\u001b[0m \u001b[0;34m+=\u001b[0m \u001b[0;34m\"b\"\u001b[0m\u001b[0;34m\u001b[0m\u001b[0;34m\u001b[0m\u001b[0m\n\u001b[1;32m    556\u001b[0m \u001b[0;34m\u001b[0m\u001b[0m\n",
      "\u001b[0;32m~/opt/anaconda3/lib/python3.8/site-packages/pandas/io/common.py\u001b[0m in \u001b[0;36m_is_binary_mode\u001b[0;34m(handle, mode)\u001b[0m\n\u001b[1;32m    857\u001b[0m     \u001b[0;31m# classes that expect bytes\u001b[0m\u001b[0;34m\u001b[0m\u001b[0;34m\u001b[0m\u001b[0;34m\u001b[0m\u001b[0m\n\u001b[1;32m    858\u001b[0m     \u001b[0mbinary_classes\u001b[0m \u001b[0;34m=\u001b[0m \u001b[0;34m(\u001b[0m\u001b[0mBufferedIOBase\u001b[0m\u001b[0;34m,\u001b[0m \u001b[0mRawIOBase\u001b[0m\u001b[0;34m)\u001b[0m\u001b[0;34m\u001b[0m\u001b[0;34m\u001b[0m\u001b[0m\n\u001b[0;32m--> 859\u001b[0;31m     \u001b[0;32mreturn\u001b[0m \u001b[0misinstance\u001b[0m\u001b[0;34m(\u001b[0m\u001b[0mhandle\u001b[0m\u001b[0;34m,\u001b[0m \u001b[0mbinary_classes\u001b[0m\u001b[0;34m)\u001b[0m \u001b[0;32mor\u001b[0m \u001b[0;34m\"b\"\u001b[0m \u001b[0;32min\u001b[0m \u001b[0mgetattr\u001b[0m\u001b[0;34m(\u001b[0m\u001b[0mhandle\u001b[0m\u001b[0;34m,\u001b[0m \u001b[0;34m\"mode\"\u001b[0m\u001b[0;34m,\u001b[0m \u001b[0mmode\u001b[0m\u001b[0;34m)\u001b[0m\u001b[0;34m\u001b[0m\u001b[0;34m\u001b[0m\u001b[0m\n\u001b[0m",
      "\u001b[0;31mTypeError\u001b[0m: argument of type 'method' is not iterable"
     ]
    }
   ],
   "source": [
    "save_df(df, \"NYY_NYM_2020\")"
   ]
  },
  {
   "cell_type": "code",
   "execution_count": null,
   "id": "introductory-wiring",
   "metadata": {},
   "outputs": [],
   "source": []
  }
 ],
 "metadata": {
  "kernelspec": {
   "display_name": "Python 3",
   "language": "python",
   "name": "python3"
  },
  "language_info": {
   "codemirror_mode": {
    "name": "ipython",
    "version": 3
   },
   "file_extension": ".py",
   "mimetype": "text/x-python",
   "name": "python",
   "nbconvert_exporter": "python",
   "pygments_lexer": "ipython3",
   "version": "3.8.5"
  }
 },
 "nbformat": 4,
 "nbformat_minor": 5
}
