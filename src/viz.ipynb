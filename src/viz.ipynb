{
 "cells": [
  {
   "cell_type": "code",
   "execution_count": 1,
   "id": "organizational-delight",
   "metadata": {},
   "outputs": [],
   "source": [
    "%matplotlib inline\n",
    "import pandas as pd\n",
    "import numpy as np\n",
    "import matplotlib.pyplot as plt\n",
    "import seaborn as sns"
   ]
  },
  {
   "cell_type": "code",
   "execution_count": 2,
   "id": "convenient-wages",
   "metadata": {},
   "outputs": [],
   "source": [
    "cole = pd.read_csv('cole_2020.csv')\n",
    "degrom = pd.read_csv('degrom_2020.csv')"
   ]
  },
  {
   "cell_type": "code",
   "execution_count": 3,
   "id": "proof-bankruptcy",
   "metadata": {},
   "outputs": [],
   "source": [
    "degrom=degrom.rename(columns={'CU':'Curveball', 'FF':'Fastball', 'CH':'Changeup', 'SL':'Slider'})\n",
    "cole=cole.rename(columns={'KC':'Curveball', 'FF':'Fastball', 'CH':'Changeup', 'SL':'Slider'})"
   ]
  },
  {
   "cell_type": "code",
   "execution_count": 7,
   "id": "fluid-month",
   "metadata": {},
   "outputs": [],
   "source": [
    "degrom['game_date'] = pd.to_datetime(degrom['game_date'])\n",
    "cole['game_date'] = pd.to_datetime(cole['game_date'])"
   ]
  },
  {
   "cell_type": "code",
   "execution_count": 10,
   "id": "soviet-destiny",
   "metadata": {},
   "outputs": [],
   "source": [
    "def pitch_counts(df, pitches=['Fastball', 'Curveball', 'Changeup', 'Slider']):\n",
    "    '''\n",
    "    From a df make dictionary of pitch names and counts for that pitch.\n",
    "    Args: df\n",
    "    Outs: dict\n",
    "    '''\n",
    "    pdict = dict()\n",
    "    \n",
    "    for p in pitches:\n",
    "        pdict[p] = sum(df[p]==1)\n",
    "        \n",
    "    return pdict"
   ]
  },
  {
   "cell_type": "code",
   "execution_count": 12,
   "id": "wired-macedonia",
   "metadata": {},
   "outputs": [
    {
     "data": {
      "text/plain": [
       "{'Fastball': 635, 'Curveball': 207, 'Changeup': 67, 'Slider': 294}"
      ]
     },
     "execution_count": 12,
     "metadata": {},
     "output_type": "execute_result"
    }
   ],
   "source": [
    "#Cole throws a knuckle curve\n",
    "pitch_counts(cole)"
   ]
  },
  {
   "cell_type": "code",
   "execution_count": null,
   "id": "irish-avenue",
   "metadata": {},
   "outputs": [],
   "source": []
  },
  {
   "cell_type": "code",
   "execution_count": null,
   "id": "judicial-cherry",
   "metadata": {},
   "outputs": [],
   "source": []
  },
  {
   "cell_type": "code",
   "execution_count": null,
   "id": "loaded-flash",
   "metadata": {},
   "outputs": [],
   "source": []
  }
 ],
 "metadata": {
  "kernelspec": {
   "display_name": "Python 3",
   "language": "python",
   "name": "python3"
  },
  "language_info": {
   "codemirror_mode": {
    "name": "ipython",
    "version": 3
   },
   "file_extension": ".py",
   "mimetype": "text/x-python",
   "name": "python",
   "nbconvert_exporter": "python",
   "pygments_lexer": "ipython3",
   "version": "3.8.5"
  }
 },
 "nbformat": 4,
 "nbformat_minor": 5
}
