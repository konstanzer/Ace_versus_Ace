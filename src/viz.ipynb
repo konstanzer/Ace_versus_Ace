{
 "cells": [
  {
   "cell_type": "code",
   "execution_count": 121,
   "id": "entitled-andrew",
   "metadata": {},
   "outputs": [],
   "source": [
    "%matplotlib inline\n",
    "import pandas as pd\n",
    "import numpy as np\n",
    "import matplotlib.pyplot as plt\n",
    "import seaborn as sns"
   ]
  },
  {
   "cell_type": "code",
   "execution_count": 180,
   "id": "opposite-beijing",
   "metadata": {},
   "outputs": [],
   "source": [
    "df = pd.read_csv('NYY_NYM_2020.csv')"
   ]
  },
  {
   "cell_type": "code",
   "execution_count": 181,
   "id": "pregnant-copyright",
   "metadata": {},
   "outputs": [],
   "source": [
    "cole = df[df['player_name']=='Gerrit Cole']\n",
    "degrom = df[df['player_name']=='Jacob deGrom']\n",
    "britton = df[df['player_name']=='Zack Britton']\n",
    "tanaka = df[df['player_name']=='Masahiro Tanaka']"
   ]
  },
  {
   "cell_type": "code",
   "execution_count": 182,
   "id": "capital-mailman",
   "metadata": {},
   "outputs": [
    {
     "data": {
      "text/plain": [
       "array([0, 1])"
      ]
     },
     "execution_count": 182,
     "metadata": {},
     "output_type": "execute_result"
    }
   ],
   "source": [
    "degrom=degrom.rename(columns={'CU':'Curve', 'FF':'Fastball', 'CH':'Change', 'SL':'Slider'})\n",
    "cole=cole.rename(columns={'KC':'Curve', 'FF':'Fastball', 'CH':'Change', 'SL':'Slider'})"
   ]
  },
  {
   "cell_type": "code",
   "execution_count": 186,
   "id": "legislative-bicycle",
   "metadata": {},
   "outputs": [],
   "source": [
    "def pitch_counts(df, pitches=['Fastball', 'Curve', 'Change', 'Slider']):\n",
    "    '''\n",
    "    From a df make dictionary of pitch names and counts for that pitch.\n",
    "    Args: df\n",
    "    Outs: dict\n",
    "    '''\n",
    "    pdict = dict()\n",
    "    \n",
    "    for p in pitches:\n",
    "        pdict[p] = sum(df[p]==1)\n",
    "        \n",
    "    return pdict"
   ]
  },
  {
   "cell_type": "code",
   "execution_count": 189,
   "id": "sacred-intermediate",
   "metadata": {},
   "outputs": [
    {
     "data": {
      "text/plain": [
       "{'Fastball': 510, 'Curve': 30, 'Change': 192, 'Slider': 403}"
      ]
     },
     "execution_count": 189,
     "metadata": {},
     "output_type": "execute_result"
    }
   ],
   "source": [
    "#Cole throws a knuckle curve\n",
    "d = pitch_counts(degrom)\n",
    "c = pitch_counts(cole)\n",
    "d"
   ]
  },
  {
   "cell_type": "code",
   "execution_count": 190,
   "id": "north-effect",
   "metadata": {},
   "outputs": [
    {
     "data": {
      "text/plain": [
       "{'Fastball': 635, 'Curve': 207, 'Change': 67, 'Slider': 294}"
      ]
     },
     "execution_count": 190,
     "metadata": {},
     "output_type": "execute_result"
    }
   ],
   "source": [
    "c"
   ]
  },
  {
   "cell_type": "code",
   "execution_count": null,
   "id": "internal-banks",
   "metadata": {},
   "outputs": [],
   "source": [
    "sns.set_theme(style=\"whitegrid\")\n",
    "\n",
    "penguins = sns.load_dataset(\"penguins\")\n",
    "\n",
    "# Draw a nested barplot by species and sex\n",
    "g = sns.catplot(\n",
    "    data=, kind=\"bar\",\n",
    "    x=\"species\", y=\"body_mass_g\", hue=\"sex\",\n",
    "    ci=\"sd\", palette=\"dark\", alpha=.6, height=6\n",
    ")\n",
    "g.despine(left=True)\n",
    "g.set_axis_labels(\"\", \"Body mass (g)\")\n",
    "g.legend.set_title(\"\")"
   ]
  }
 ],
 "metadata": {
  "kernelspec": {
   "display_name": "Python 3",
   "language": "python",
   "name": "python3"
  },
  "language_info": {
   "codemirror_mode": {
    "name": "ipython",
    "version": 3
   },
   "file_extension": ".py",
   "mimetype": "text/x-python",
   "name": "python",
   "nbconvert_exporter": "python",
   "pygments_lexer": "ipython3",
   "version": "3.8.5"
  }
 },
 "nbformat": 4,
 "nbformat_minor": 5
}
