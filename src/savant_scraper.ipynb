{
 "cells": [
  {
   "cell_type": "code",
   "execution_count": 2,
   "metadata": {
    "id": "XcNmFlUTfvP_"
   },
   "outputs": [],
   "source": [
    "import sqlite3\n",
    "import pandas as pd\n",
    "import savantscraper\n",
    "import importlib\n",
    "\n",
    "importlib.reload(savantscraper)\n",
    "\n",
    "# Database for two years and two teams\n",
    "savantscraper.database_import('baseball_savant',\n",
    "                              (2019, 2020),\n",
    "                              teams=['NYY'])"
   ]
  },
  {
   "cell_type": "code",
   "execution_count": null,
   "metadata": {
    "id": "4CGHYlqnf4WU"
   },
   "outputs": [],
   "source": [
    "# Connect to the database\n",
    "conn = sqlite3.connect('baseball_savant.db')\n",
    "\n",
    "# Query the database and load into a pandas dataframe\n",
    "df = pd.read_sql_query(\"select player_name, vx0 from statcast limit 5;\", conn)\n",
    "\n",
    "# Close connection when finished\n",
    "conn.close()\n",
    "\n",
    "df"
   ]
  },
  {
   "cell_type": "code",
   "execution_count": null,
   "metadata": {},
   "outputs": [],
   "source": []
  },
  {
   "cell_type": "code",
   "execution_count": null,
   "metadata": {},
   "outputs": [],
   "source": []
  },
  {
   "cell_type": "code",
   "execution_count": null,
   "metadata": {},
   "outputs": [],
   "source": []
  },
  {
   "cell_type": "code",
   "execution_count": null,
   "metadata": {},
   "outputs": [],
   "source": []
  }
 ],
 "metadata": {
  "colab": {
   "name": "savant_scraper.ipynb",
   "provenance": []
  },
  "kernelspec": {
   "display_name": "Python 3",
   "language": "python",
   "name": "python3"
  },
  "language_info": {
   "codemirror_mode": {
    "name": "ipython",
    "version": 3
   },
   "file_extension": ".py",
   "mimetype": "text/x-python",
   "name": "python",
   "nbconvert_exporter": "python",
   "pygments_lexer": "ipython3",
   "version": "3.8.5"
  }
 },
 "nbformat": 4,
 "nbformat_minor": 4
}
