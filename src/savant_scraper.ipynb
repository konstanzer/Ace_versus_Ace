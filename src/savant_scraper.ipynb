{
 "cells": [
  {
   "cell_type": "code",
   "execution_count": 2,
   "metadata": {
    "id": "XcNmFlUTfvP_"
   },
   "outputs": [
    {
     "data": {
      "application/vnd.jupyter.widget-view+json": {
       "model_id": "45a8bfa27c1a4b63b0931179954db230",
       "version_major": 2,
       "version_minor": 0
      },
      "text/plain": [
       "Seasons:   0%|          | 0/2 [00:00<?, ?it/s]"
      ]
     },
     "metadata": {},
     "output_type": "display_data"
    },
    {
     "data": {
      "application/vnd.jupyter.widget-view+json": {
       "model_id": "2b055e1ad5574a4d907e02daaf9053de",
       "version_major": 2,
       "version_minor": 0
      },
      "text/plain": [
       "Teams:   0%|          | 0/2 [00:00<?, ?it/s]"
      ]
     },
     "metadata": {},
     "output_type": "display_data"
    },
    {
     "data": {
      "application/vnd.jupyter.widget-view+json": {
       "model_id": "b3c77d38cba1438bb58963c151b88166",
       "version_major": 2,
       "version_minor": 0
      },
      "text/plain": [
       "Home/Road:   0%|          | 0/2 [00:00<?, ?it/s]"
      ]
     },
     "metadata": {},
     "output_type": "display_data"
    },
    {
     "data": {
      "application/vnd.jupyter.widget-view+json": {
       "model_id": "5380a73a73de45509a58804918193b58",
       "version_major": 2,
       "version_minor": 0
      },
      "text/plain": [
       "Home/Road:   0%|          | 0/2 [00:00<?, ?it/s]"
      ]
     },
     "metadata": {},
     "output_type": "display_data"
    },
    {
     "data": {
      "application/vnd.jupyter.widget-view+json": {
       "model_id": "304cc20a12e4410ab0142fd131f4d76f",
       "version_major": 2,
       "version_minor": 0
      },
      "text/plain": [
       "Teams:   0%|          | 0/2 [00:00<?, ?it/s]"
      ]
     },
     "metadata": {},
     "output_type": "display_data"
    },
    {
     "data": {
      "application/vnd.jupyter.widget-view+json": {
       "model_id": "a6f52d535ca44573a78e8deb2f2fc24e",
       "version_major": 2,
       "version_minor": 0
      },
      "text/plain": [
       "Home/Road:   0%|          | 0/2 [00:00<?, ?it/s]"
      ]
     },
     "metadata": {},
     "output_type": "display_data"
    },
    {
     "data": {
      "application/vnd.jupyter.widget-view+json": {
       "model_id": "0afb018e81ed45869a79a34c4af377f9",
       "version_major": 2,
       "version_minor": 0
      },
      "text/plain": [
       "Home/Road:   0%|          | 0/2 [00:00<?, ?it/s]"
      ]
     },
     "metadata": {},
     "output_type": "display_data"
    }
   ],
   "source": [
    "import sqlite3\n",
    "import pandas as pd\n",
    "import savantscraper\n",
    "\n",
    "# Database for two years and two teams\n",
    "savantscraper.database_import('baseball_savant',\n",
    "                              (2017, 2018),\n",
    "                              teams=['STL', 'COL'])"
   ]
  },
  {
   "cell_type": "code",
   "execution_count": 3,
   "metadata": {
    "id": "4CGHYlqnf4WU"
   },
   "outputs": [
    {
     "data": {
      "text/html": [
       "<div>\n",
       "<style scoped>\n",
       "    .dataframe tbody tr th:only-of-type {\n",
       "        vertical-align: middle;\n",
       "    }\n",
       "\n",
       "    .dataframe tbody tr th {\n",
       "        vertical-align: top;\n",
       "    }\n",
       "\n",
       "    .dataframe thead th {\n",
       "        text-align: right;\n",
       "    }\n",
       "</style>\n",
       "<table border=\"1\" class=\"dataframe\">\n",
       "  <thead>\n",
       "    <tr style=\"text-align: right;\">\n",
       "      <th></th>\n",
       "      <th>player_name</th>\n",
       "      <th>vx0</th>\n",
       "    </tr>\n",
       "  </thead>\n",
       "  <tbody>\n",
       "    <tr>\n",
       "      <th>0</th>\n",
       "      <td>Sam Tuivailala</td>\n",
       "      <td>8.807315</td>\n",
       "    </tr>\n",
       "    <tr>\n",
       "      <th>1</th>\n",
       "      <td>Sam Tuivailala</td>\n",
       "      <td>4.813130</td>\n",
       "    </tr>\n",
       "    <tr>\n",
       "      <th>2</th>\n",
       "      <td>Sam Tuivailala</td>\n",
       "      <td>6.046583</td>\n",
       "    </tr>\n",
       "    <tr>\n",
       "      <th>3</th>\n",
       "      <td>Sam Tuivailala</td>\n",
       "      <td>8.539759</td>\n",
       "    </tr>\n",
       "    <tr>\n",
       "      <th>4</th>\n",
       "      <td>Sam Tuivailala</td>\n",
       "      <td>6.428411</td>\n",
       "    </tr>\n",
       "  </tbody>\n",
       "</table>\n",
       "</div>"
      ],
      "text/plain": [
       "      player_name       vx0\n",
       "0  Sam Tuivailala  8.807315\n",
       "1  Sam Tuivailala  4.813130\n",
       "2  Sam Tuivailala  6.046583\n",
       "3  Sam Tuivailala  8.539759\n",
       "4  Sam Tuivailala  6.428411"
      ]
     },
     "execution_count": 3,
     "metadata": {},
     "output_type": "execute_result"
    }
   ],
   "source": [
    "# Connect to the database\n",
    "conn = sqlite3.connect('baseball_savant.db')\n",
    "\n",
    "# Query the database and load into a pandas dataframe\n",
    "df = pd.read_sql_query(\"select player_name, vx0 from statcast limit 5;\", conn)\n",
    "\n",
    "# Close connection when finished\n",
    "conn.close()\n",
    "\n",
    "df"
   ]
  },
  {
   "cell_type": "code",
   "execution_count": null,
   "metadata": {},
   "outputs": [],
   "source": []
  }
 ],
 "metadata": {
  "colab": {
   "name": "savant_scraper.ipynb",
   "provenance": []
  },
  "kernelspec": {
   "display_name": "Python 3",
   "language": "python",
   "name": "python3"
  },
  "language_info": {
   "codemirror_mode": {
    "name": "ipython",
    "version": 3
   },
   "file_extension": ".py",
   "mimetype": "text/x-python",
   "name": "python",
   "nbconvert_exporter": "python",
   "pygments_lexer": "ipython3",
   "version": "3.8.5"
  }
 },
 "nbformat": 4,
 "nbformat_minor": 4
}
