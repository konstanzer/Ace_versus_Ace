{
 "cells": [
  {
   "cell_type": "code",
   "execution_count": 5,
   "id": "exact-output",
   "metadata": {},
   "outputs": [],
   "source": [
    "import scipy.stats as scs\n",
    "import pandas as pd\n",
    "import numpy as np\n",
    "import matplotlib.pyplot as plt"
   ]
  },
  {
   "cell_type": "code",
   "execution_count": 2,
   "id": "african-charles",
   "metadata": {},
   "outputs": [],
   "source": [
    "df = pd.read_csv('aces_2020.csv')\n",
    "cole = df[df.pitcher==543037]\n",
    "degrom = df[df.pitcher==594798]"
   ]
  },
  {
   "cell_type": "code",
   "execution_count": 3,
   "id": "identified-render",
   "metadata": {},
   "outputs": [],
   "source": [
    "c = cole.groupby('pitch_type')\n",
    "d = degrom.groupby('pitch_type')\n",
    "\n",
    "ps = ['CH','CU','FF','SL']\n",
    "avg_cats = ['release_speed', 'release_spin_rate','pfx_x',\n",
    "            'pfx_z','vx0','vy0','vz0','ax','ay','az']\n",
    "\n",
    "agg = pd.concat([c.agg('sum')[ps].sum(axis=1),\n",
    "                d.agg('sum')[ps].sum(axis=1)], axis=1).rename(columns={0: \"Cole\", 1: \"deGrom\"})\n",
    "\n",
    "cole_mean = c.agg('mean')[avg_cats]\n",
    "degr_mean = d.agg('mean')[avg_cats]"
   ]
  },
  {
   "cell_type": "code",
   "execution_count": 20,
   "id": "frank-advice",
   "metadata": {},
   "outputs": [
    {
     "data": {
      "text/plain": [
       "pitch_type\n",
       "CH    1750.223881\n",
       "CU    2802.782609\n",
       "FF    2505.105512\n",
       "SL    2580.374150\n",
       "Name: release_spin_rate, dtype: float64"
      ]
     },
     "execution_count": 20,
     "metadata": {},
     "output_type": "execute_result"
    }
   ],
   "source": [
    "ff_mean_spin = cole_mean.release_spin_rate['FF']"
   ]
  },
  {
   "cell_type": "code",
   "execution_count": 26,
   "id": "sealed-screw",
   "metadata": {},
   "outputs": [],
   "source": [
    "degr_ff = degrom[degrom.pitch_type=='FF']\n",
    "cole_ff = cole[cole.pitch_type=='FF']\n",
    "\n",
    "degr_sl = degrom[degrom.pitch_type=='SL']\n",
    "cole_sl = cole[cole.pitch_type=='SL']\n",
    "\n",
    "degr_cu = degrom[degrom.pitch_type=='CU']\n",
    "cole_cu = cole[cole.pitch_type=='CU']\n",
    "\n",
    "degr_ch = degrom[degrom.pitch_type=='CH']\n",
    "cole_ch = cole[cole.pitch_type=='CH']"
   ]
  },
  {
   "cell_type": "code",
   "execution_count": 57,
   "id": "superb-scottish",
   "metadata": {},
   "outputs": [
    {
     "data": {
      "text/plain": [
       "(Ttest_indResult(statistic=3.899203918125098, pvalue=0.00010539824654217182),\n",
       " 'Cole: 2505.1055118110235',\n",
       " 'deGrom: 2477.0019607843137')"
      ]
     },
     "execution_count": 57,
     "metadata": {},
     "output_type": "execute_result"
    },
    {
     "data": {
      "image/png": "[encoded data removed]",
      "text/plain": [
       "<Figure size 504x360 with 1 Axes>"
      ]
     },
     "metadata": {
      "needs_background": "light"
     },
     "output_type": "display_data"
    }
   ],
   "source": [
    "#Hypothesis test of fastball spin. Use mean spin rate.\n",
    "fig, ax = plt.subplots(figsize=(7,5))\n",
    "x=np.linspace(2000, 3000, 25)\n",
    "ax.hist(cole_ff.release_spin_rate, alpha=.6, bins=x, label='Cole')\n",
    "ax.hist(degr_ff.release_spin_rate, alpha=.6, bins=x, label='deGrom')\n",
    "ax.legend()\n",
    "\n",
    "ff_mean_spin_co = cole_mean.release_spin_rate['FF']\n",
    "ff_mean_spin_de = degr_mean.release_spin_rate['FF']\n",
    "ff_spin_res = scs.ttest_ind(cole_ff.release_spin_rate, degr_ff.release_spin_rate, equal_var=False)\n",
    "(result, f'Cole: {ff_mean_spin_co}', f'deGrom: {ff_mean_spin_de}')"
   ]
  },
  {
   "cell_type": "code",
   "execution_count": 35,
   "id": "welsh-arthur",
   "metadata": {},
   "outputs": [
    {
     "data": {
      "text/plain": [
       "(Ttest_indResult(statistic=3.899203918125098, pvalue=0.00010539824654217182),\n",
       " 96.71007874015744)"
      ]
     },
     "execution_count": 35,
     "metadata": {},
     "output_type": "execute_result"
    },
    {
     "data": {
      "image/png": "[encoded data removed]",
      "text/plain": [
       "<Figure size 504x360 with 1 Axes>"
      ]
     },
     "metadata": {
      "needs_background": "light"
     },
     "output_type": "display_data"
    }
   ],
   "source": [
    "#Hypothesis test of fastball speed. Use mean spin rate.\n",
    "fig, ax = plt.subplots(figsize=(7,5))\n",
    "x=np.linspace(91, 102, 25)\n",
    "ax.hist(cole_ff.release_speed, alpha=.6, bins=x, label='Cole')\n",
    "ax.hist(degr_ff.release_speed, alpha=.6, bins=x, label='deGrom')\n",
    "ax.legend()\n",
    "\n",
    "ff_mean_speed_co = cole_mean.release_speed['FF']\n",
    "ff_mean_speed_de = degr_mean.release_speed['FF']\n",
    "ff_spin_res = scs.ttest_ind(cole_ff.release_speed, degr_ff.release_speed, equal_var=False)\n",
    "(result, ff_mean_spin)\n",
    "(result, f'Cole: {ff_mean_spin_co}', f'deGrom: {ff_mean_spin_de}')"
   ]
  },
  {
   "cell_type": "code",
   "execution_count": 48,
   "id": "interstate-triangle",
   "metadata": {},
   "outputs": [
    {
     "data": {
      "text/plain": [
       "(Ttest_indResult(statistic=3.899203918125098, pvalue=0.00010539824654217182),\n",
       " -1.0179527559055115)"
      ]
     },
     "execution_count": 48,
     "metadata": {},
     "output_type": "execute_result"
    },
    {
     "data": {
      "image/png": "[encoded data removed]",
      "text/plain": [
       "<Figure size 504x360 with 1 Axes>"
      ]
     },
     "metadata": {
      "needs_background": "light"
     },
     "output_type": "display_data"
    }
   ],
   "source": [
    "#Hypothesis test of fastball break. Use mean spin rate.\n",
    "fig, ax = plt.subplots(figsize=(7,5))\n",
    "x=np.linspace(-2, 0, 25)\n",
    "ax.hist(cole_ff.pfx_x, alpha=.6, bins=x, label='Cole')\n",
    "ax.hist(degr_ff.pfx_x, alpha=.6, bins=x, label='deGrom')\n",
    "ax.legend()\n",
    "\n",
    "ff_mean_break = cole_mean.pfx_x['FF']\n",
    "ff_break_res = scs.ttest_ind(cole_ff.pfx_x, degr_ff.pfx_x, equal_var=False)\n",
    "(result, ff_mean_break)"
   ]
  },
  {
   "cell_type": "code",
   "execution_count": 51,
   "id": "immediate-bolivia",
   "metadata": {},
   "outputs": [
    {
     "data": {
      "text/plain": [
       "(Ttest_indResult(statistic=3.899203918125098, pvalue=0.00010539824654217182),\n",
       " 1.490787401574804)"
      ]
     },
     "execution_count": 51,
     "metadata": {},
     "output_type": "execute_result"
    },
    {
     "data": {
      "image/png": "[encoded data removed]",
      "text/plain": [
       "<Figure size 504x360 with 1 Axes>"
      ]
     },
     "metadata": {
      "needs_background": "light"
     },
     "output_type": "display_data"
    }
   ],
   "source": [
    "#Hypothesis test of fastball rise. Use mean spin rate.\n",
    "fig, ax = plt.subplots(figsize=(7,5))\n",
    "x=np.linspace(.5, 2.5, 25)\n",
    "ax.hist(cole_ff.pfx_z, alpha=.6, bins=x, label='Cole')\n",
    "ax.hist(degr_ff.pfx_z, alpha=.6, bins=x, label='deGrom')\n",
    "ax.legend()\n",
    "\n",
    "ff_mean_break2 = cole_mean.pfx_z['FF']\n",
    "ff_break2_res = scs.ttest_ind(cole_ff.pfx_z, degr_ff.pfx_z, equal_var=False)\n",
    "(result, ff_mean_break2)"
   ]
  },
  {
   "cell_type": "code",
   "execution_count": 31,
   "id": "accompanied-prayer",
   "metadata": {},
   "outputs": [
    {
     "data": {
      "text/plain": [
       "(Ttest_indResult(statistic=3.899203918125098, pvalue=0.00010539824654217182),\n",
       " 2580.374149659864)"
      ]
     },
     "execution_count": 31,
     "metadata": {},
     "output_type": "execute_result"
    },
    {
     "data": {
      "image/png": "[encoded data removed]",
      "text/plain": [
       "<Figure size 504x360 with 1 Axes>"
      ]
     },
     "metadata": {
      "needs_background": "light"
     },
     "output_type": "display_data"
    }
   ],
   "source": [
    "#Hypothesis test of slider spin. Use mean spin rate.\n",
    "fig, ax = plt.subplots(figsize=(7,5))\n",
    "x=np.linspace(2000, 3000, 25)\n",
    "ax.hist(cole_sl.release_spin_rate, alpha=.6, bins=x, label='Cole')\n",
    "ax.hist(degr_sl.release_spin_rate, alpha=.6, bins=x, label='deGrom')\n",
    "ax.legend()\n",
    "\n",
    "sl_mean_spin = cole_mean.release_spin_rate['SL']\n",
    "sl_spin_res = scs.ttest_ind(cole_sl.release_spin_rate, degr_sl.release_spin_rate, equal_var=False)\n",
    "(result, sl_mean_spin)"
   ]
  },
  {
   "cell_type": "code",
   "execution_count": 34,
   "id": "comprehensive-clone",
   "metadata": {},
   "outputs": [
    {
     "data": {
      "text/plain": [
       "(Ttest_indResult(statistic=3.899203918125098, pvalue=0.00010539824654217182),\n",
       " 88.7336734693878)"
      ]
     },
     "execution_count": 34,
     "metadata": {},
     "output_type": "execute_result"
    },
    {
     "data": {
      "image/png": "[encoded data removed]",
      "text/plain": [
       "<Figure size 504x360 with 1 Axes>"
      ]
     },
     "metadata": {
      "needs_background": "light"
     },
     "output_type": "display_data"
    }
   ],
   "source": [
    "#Hypothesis test of slider speed. Use mean spin rate.\n",
    "fig, ax = plt.subplots(figsize=(7,5))\n",
    "x=np.linspace(83, 98, 25)\n",
    "ax.hist(cole_sl.release_speed, alpha=.6, bins=x, label='Cole')\n",
    "ax.hist(degr_sl.release_speed, alpha=.6, bins=x, label='deGrom')\n",
    "ax.legend()\n",
    "\n",
    "sl_mean_spin = cole_mean.release_speed['SL']\n",
    "sl_spin_res = scs.ttest_ind(cole_sl.release_speed, degr_sl.release_speed, equal_var=False)\n",
    "(result, sl_mean_spin)"
   ]
  },
  {
   "cell_type": "code",
   "execution_count": 46,
   "id": "brave-output",
   "metadata": {},
   "outputs": [
    {
     "data": {
      "text/plain": [
       "(Ttest_indResult(statistic=3.899203918125098, pvalue=0.00010539824654217182),\n",
       " 0.42125850340136034)"
      ]
     },
     "execution_count": 46,
     "metadata": {},
     "output_type": "execute_result"
    },
    {
     "data": {
      "image/png": "[encoded data removed]",
      "text/plain": [
       "<Figure size 504x360 with 1 Axes>"
      ]
     },
     "metadata": {
      "needs_background": "light"
     },
     "output_type": "display_data"
    }
   ],
   "source": [
    "#Hypothesis test of slider break. Use mean spin rate.\n",
    "fig, ax = plt.subplots(figsize=(7,5))\n",
    "x=np.linspace(-.2, 1, 25)\n",
    "ax.hist(cole_sl.pfx_x, alpha=.6, bins=x, label='Cole')\n",
    "ax.hist(degr_sl.pfx_x, alpha=.6, bins=x, label='deGrom')\n",
    "ax.legend()\n",
    "\n",
    "sl_mean_break = cole_mean.pfx_x['SL']\n",
    "sl_break_res = scs.ttest_ind(cole_sl.pfx_x, degr_sl.pfx_x, equal_var=False)\n",
    "(result, sl_mean_break)"
   ]
  },
  {
   "cell_type": "code",
   "execution_count": 55,
   "id": "statutory-detective",
   "metadata": {},
   "outputs": [
    {
     "data": {
      "text/plain": [
       "(Ttest_indResult(statistic=3.899203918125098, pvalue=0.00010539824654217182),\n",
       " 0.2941496598639456)"
      ]
     },
     "execution_count": 55,
     "metadata": {},
     "output_type": "execute_result"
    },
    {
     "data": {
      "image/png": "[encoded data removed]",
      "text/plain": [
       "<Figure size 504x360 with 1 Axes>"
      ]
     },
     "metadata": {
      "needs_background": "light"
     },
     "output_type": "display_data"
    }
   ],
   "source": [
    "#Hypothesis test of slider drop. Use mean spin rate.\n",
    "fig, ax = plt.subplots(figsize=(7,5))\n",
    "x=np.linspace(-.5, 1.5, 25)\n",
    "ax.hist(cole_sl.pfx_z, alpha=.6, bins=x, label='Cole')\n",
    "ax.hist(degr_sl.pfx_z, alpha=.6, bins=x, label='deGrom')\n",
    "ax.legend()\n",
    "\n",
    "sl_mean_break2 = cole_mean.pfx_z['SL']\n",
    "sl_break2_res = scs.ttest_ind(cole_sl.pfx_z, degr_sl.pfx_z, equal_var=False)\n",
    "(result, sl_mean_break2)"
   ]
  },
  {
   "cell_type": "code",
   "execution_count": null,
   "id": "monthly-repair",
   "metadata": {},
   "outputs": [],
   "source": []
  }
 ],
 "metadata": {
  "kernelspec": {
   "display_name": "Python 3",
   "language": "python",
   "name": "python3"
  },
  "language_info": {
   "codemirror_mode": {
    "name": "ipython",
    "version": 3
   },
   "file_extension": ".py",
   "mimetype": "text/x-python",
   "name": "python",
   "nbconvert_exporter": "python",
   "pygments_lexer": "ipython3",
   "version": "3.8.5"
  }
 },
 "nbformat": 4,
 "nbformat_minor": 5
}
