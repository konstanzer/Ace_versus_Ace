{
 "cells": [
  {
   "cell_type": "code",
   "execution_count": null,
   "id": "constitutional-teddy",
   "metadata": {},
   "outputs": [],
   "source": [
    "from bswrangler import *"
   ]
  },
  {
   "cell_type": "code",
   "execution_count": null,
   "id": "removed-jesus",
   "metadata": {},
   "outputs": [],
   "source": [
    "df = query_database('NYY_NYM_2020', '''\n",
    "                        SELECT player_name, pitcher, game_date, game_type, home_team,\n",
    "                        away_team, pitch_type, pitch_name, release_speed,\n",
    "                        release_spin_rate, events, type, description, zone,\n",
    "                        release_pos_x, release_pos_z, pfx_x, pfx_z, plate_x, plate_z,\n",
    "                        release_extension, vx0, vy0, vz0, ax, ay, az\n",
    "                        FROM statcast\n",
    "                        WHERE pitch_type IS NOT NULL; ''')"
   ]
  },
  {
   "cell_type": "code",
   "execution_count": null,
   "id": "stuck-repair",
   "metadata": {},
   "outputs": [],
   "source": [
    "df.info()"
   ]
  },
  {
   "cell_type": "code",
   "execution_count": null,
   "id": "serious-amino",
   "metadata": {},
   "outputs": [],
   "source": [
    "make_datetime(df)"
   ]
  },
  {
   "cell_type": "code",
   "execution_count": null,
   "id": "alternate-circus",
   "metadata": {},
   "outputs": [],
   "source": [
    "df[df.pitch_type == 'CS']"
   ]
  },
  {
   "cell_type": "code",
   "execution_count": null,
   "id": "clinical-metallic",
   "metadata": {},
   "outputs": [],
   "source": [
    "rename_to_curveball(df, [2000])"
   ]
  },
  {
   "cell_type": "code",
   "execution_count": null,
   "id": "dress-nomination",
   "metadata": {},
   "outputs": [],
   "source": [
    "change_values(df, 'events', ['caught_stealing_2b', 'caught_stealing_3b',\n",
    "                             'pickoff_caught_stealing_2b', 'run', 'pickoff_2b',\n",
    "                             'other_out', 'strikeout_double_play', 'interf_def',\n",
    "                             'fielders_choice_out', 'fielders_choice',\n",
    "                             'grounded_into_double_play', 'force_out', 'double_play',\n",
    "                             'sac_bunt', 'sac_fly', 'hit_by_pitch'],\n",
    "              [None, None, None, None, None, None, 'strikeout', 'field_error',\n",
    "               'field_out', 'field_out', 'field_out', 'field_out', 'field_out',\n",
    "               'field_out', 'field_out', 'walk'])\n",
    "\n",
    "change_values(df, 'description', ['foul_bunt', 'swinging_strike_blocked',\n",
    "                                  'missed_bunt','foul_tip', 'foul', 'blocked_ball',\n",
    "                                  'pitchout'], \n",
    "              ['swinging_strike', 'swinging_strike', 'swinging_strike', 'swinging_strike',\n",
    "               'swinging_strike','ball', 'ball'])"
   ]
  },
  {
   "cell_type": "code",
   "execution_count": null,
   "id": "peripheral-translator",
   "metadata": {},
   "outputs": [],
   "source": [
    "df.description.unique()"
   ]
  },
  {
   "cell_type": "code",
   "execution_count": null,
   "id": "checked-montgomery",
   "metadata": {},
   "outputs": [],
   "source": [
    "df.events.unique()"
   ]
  },
  {
   "cell_type": "code",
   "execution_count": null,
   "id": "comparative-jungle",
   "metadata": {},
   "outputs": [],
   "source": [
    "backwards_k(df)"
   ]
  },
  {
   "cell_type": "code",
   "execution_count": null,
   "id": "black-agent",
   "metadata": {},
   "outputs": [],
   "source": [
    "backfiller(df, \"events\", \"description\")"
   ]
  },
  {
   "cell_type": "code",
   "execution_count": null,
   "id": "scheduled-agreement",
   "metadata": {},
   "outputs": [],
   "source": [
    "df.events[:20]"
   ]
  },
  {
   "cell_type": "code",
   "execution_count": null,
   "id": "hazardous-gibraltar",
   "metadata": {},
   "outputs": [],
   "source": [
    "df = onehot_encode(df, 'pitch_type')"
   ]
  },
  {
   "cell_type": "code",
   "execution_count": null,
   "id": "broken-groove",
   "metadata": {},
   "outputs": [],
   "source": [
    "df = onehot_encode(df, 'events')"
   ]
  },
  {
   "cell_type": "code",
   "execution_count": null,
   "id": "civic-format",
   "metadata": {},
   "outputs": [],
   "source": [
    "df = drop_columns(df, ['description', 'pitch_type', 'pitch_name'])"
   ]
  },
  {
   "cell_type": "code",
   "execution_count": null,
   "id": "south-distribution",
   "metadata": {},
   "outputs": [],
   "source": [
    "df.info()"
   ]
  },
  {
   "cell_type": "code",
   "execution_count": null,
   "id": "subsequent-relation",
   "metadata": {},
   "outputs": [],
   "source": [
    "save_df(df, \"NYY_NYM_2020\")"
   ]
  }
 ],
 "metadata": {
  "kernelspec": {
   "display_name": "Python 3",
   "language": "python",
   "name": "python3"
  },
  "language_info": {
   "codemirror_mode": {
    "name": "ipython",
    "version": 3
   },
   "file_extension": ".py",
   "mimetype": "text/x-python",
   "name": "python",
   "nbconvert_exporter": "python",
   "pygments_lexer": "ipython3",
   "version": "3.8.5"
  }
 },
 "nbformat": 4,
 "nbformat_minor": 5
}
