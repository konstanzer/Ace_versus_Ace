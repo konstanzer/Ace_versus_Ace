{
  "nbformat": 4,
  "nbformat_minor": 0,
  "metadata": {
    "colab": {
      "name": "savant_scraper.ipynb",
      "provenance": []
    },
    "kernelspec": {
      "name": "python3",
      "display_name": "Python 3"
    }
  },
  "cells": [
    {
      "cell_type": "code",
      "metadata": {
        "id": "XcNmFlUTfvP_"
      },
      "source": [
        "import sqlite3\n",
        "import pandas as pd\n",
        "import savantscraper\n",
        "\n",
        "# Database for two years and two teams\n",
        "savantscraper.database_import('baseball_savant',\n",
        "                              (2017, 2018),\n",
        "                              teams=['STL', 'COL'])"
      ],
      "execution_count": null,
      "outputs": []
    },
    {
      "cell_type": "code",
      "metadata": {
        "id": "4CGHYlqnf4WU"
      },
      "source": [
        "# Connect to the database\n",
        "conn = sqlite3.connect('baseball_savant.db')\n",
        "\n",
        "# Query the database and load into a pandas dataframe\n",
        "df = pd.read_sql_query(\"select player_name, vx0 from statcast limit 5;\", conn)\n",
        "\n",
        "# Close connection when finished\n",
        "conn.close()\n",
        "\n",
        "df"
      ],
      "execution_count": null,
      "outputs": []
    }
  ]
}