{
 "cells": [
  {
   "cell_type": "markdown",
   "metadata": {},
   "source": [
    "# Hypothesis Testing Case Study\n"
   ]
  },
  {
   "cell_type": "code",
   "execution_count": 1,
   "metadata": {},
   "outputs": [],
   "source": [
    "%matplotlib inline\n",
    "import matplotlib.pyplot as plt\n",
    "import numpy as np\n",
    "import pandas as pd\n",
    "from scipy import stats\n",
    "import warnings\n",
    "\n",
    "warnings.filterwarnings('ignore')\n",
    "\n",
    "plt.style.use('fivethirtyeight')"
   ]
  },
  {
   "cell_type": "markdown",
   "metadata": {},
   "source": [
    "## Objectives \n",
    "\n",
    "By the end of today you should be able to,\n",
    "\n",
    "- Given a data set come up with scientific questions that could be answered with your data \n",
    "- Answer that same question by performing a hypothesis test \n",
    "\n",
    "\n",
    "## Big Picture: Capstone 1  \n",
    "\n",
    "Week 4, you will start your first capstone project.  This will give you the opportunity to apply the skills learned over the past three weeks to a real world problem.  \n",
    "\n",
    "In today's case study you will gain experience performing statistical tests that will allow you to answer scientific questions. \n",
    "\n",
    "### Capstone 1 Work Flow\n",
    "\n",
    "![](../../../pandas/Juliana/EDA/capstone_workflow.png)\n"
   ]
  },
  {
   "cell_type": "markdown",
   "metadata": {},
   "source": [
    "\n"
   ]
  },
  {
   "cell_type": "markdown",
   "metadata": {},
   "source": [
    "## Side note: Capstone Proposals are due Tuesday morning of next week! \n",
    "\n",
    "In this proposal, you should include **3 ideas for projects**.  Each project description should include: \n",
    "\n",
    "- a high level over of the purpose of your capstone project\n",
    "- what scientific question you would like to answer with that data\n",
    "- where you plan to get your data from; we suggest you get this data from on of the following:\n",
    "     - by scraping a webpage \n",
    "     - by using an API\n",
    "     - downloading a data set that is multiple files that you would need to merge\n",
    "     - avoid kaggle! \n",
    "     \n",
    "**You should propose 3 ideas in your proposal** \n"
   ]
  },
  {
   "cell_type": "markdown",
   "metadata": {},
   "source": [
    "#### An example of data you may scrap: \n",
    "- Website to scrap: https://www.pro-football-reference.com/years/2019/index.htm\n",
    "- Another website to scrap: https://austin.craigslist.org/d/bicycles/search/bia\n",
    "- API: https://www.reddit.com/dev/api"
   ]
  },
  {
   "cell_type": "markdown",
   "metadata": {},
   "source": [
    "# Example Statistical Test: Cars Data Set\n",
    "\n",
    "Let's continue where we left off with the cars data set.  Below I import and clean the data as we did in the EDA notebook. \n",
    "\n",
    "## Load and Clean Data "
   ]
  },
  {
   "cell_type": "code",
   "execution_count": 2,
   "metadata": {},
   "outputs": [
    {
     "name": "stdout",
     "output_type": "stream",
     "text": [
      "(392, 9)\n"
     ]
    },
    {
     "data": {
      "text/html": [
       "<div>\n",
       "<style scoped>\n",
       "    .dataframe tbody tr th:only-of-type {\n",
       "        vertical-align: middle;\n",
       "    }\n",
       "\n",
       "    .dataframe tbody tr th {\n",
       "        vertical-align: top;\n",
       "    }\n",
       "\n",
       "    .dataframe thead th {\n",
       "        text-align: right;\n",
       "    }\n",
       "</style>\n",
       "<table border=\"1\" class=\"dataframe\">\n",
       "  <thead>\n",
       "    <tr style=\"text-align: right;\">\n",
       "      <th></th>\n",
       "      <th>mpg</th>\n",
       "      <th>cylinders</th>\n",
       "      <th>displacement</th>\n",
       "      <th>horsepower</th>\n",
       "      <th>weight</th>\n",
       "      <th>acceleration</th>\n",
       "      <th>model</th>\n",
       "      <th>origin</th>\n",
       "      <th>car_name</th>\n",
       "    </tr>\n",
       "  </thead>\n",
       "  <tbody>\n",
       "    <tr>\n",
       "      <th>0</th>\n",
       "      <td>18.0</td>\n",
       "      <td>8</td>\n",
       "      <td>307.0</td>\n",
       "      <td>130.0</td>\n",
       "      <td>3504.0</td>\n",
       "      <td>12.0</td>\n",
       "      <td>70</td>\n",
       "      <td>1</td>\n",
       "      <td>chevrolet chevelle malibu</td>\n",
       "    </tr>\n",
       "    <tr>\n",
       "      <th>1</th>\n",
       "      <td>15.0</td>\n",
       "      <td>8</td>\n",
       "      <td>350.0</td>\n",
       "      <td>165.0</td>\n",
       "      <td>3693.0</td>\n",
       "      <td>11.5</td>\n",
       "      <td>70</td>\n",
       "      <td>1</td>\n",
       "      <td>buick skylark 320</td>\n",
       "    </tr>\n",
       "    <tr>\n",
       "      <th>2</th>\n",
       "      <td>18.0</td>\n",
       "      <td>8</td>\n",
       "      <td>318.0</td>\n",
       "      <td>150.0</td>\n",
       "      <td>3436.0</td>\n",
       "      <td>11.0</td>\n",
       "      <td>70</td>\n",
       "      <td>1</td>\n",
       "      <td>plymouth satellite</td>\n",
       "    </tr>\n",
       "    <tr>\n",
       "      <th>3</th>\n",
       "      <td>16.0</td>\n",
       "      <td>8</td>\n",
       "      <td>304.0</td>\n",
       "      <td>150.0</td>\n",
       "      <td>3433.0</td>\n",
       "      <td>12.0</td>\n",
       "      <td>70</td>\n",
       "      <td>1</td>\n",
       "      <td>amc rebel sst</td>\n",
       "    </tr>\n",
       "    <tr>\n",
       "      <th>4</th>\n",
       "      <td>17.0</td>\n",
       "      <td>8</td>\n",
       "      <td>302.0</td>\n",
       "      <td>140.0</td>\n",
       "      <td>3449.0</td>\n",
       "      <td>10.5</td>\n",
       "      <td>70</td>\n",
       "      <td>1</td>\n",
       "      <td>ford torino</td>\n",
       "    </tr>\n",
       "  </tbody>\n",
       "</table>\n",
       "</div>"
      ],
      "text/plain": [
       "    mpg  cylinders  displacement  horsepower  weight  acceleration  model  \\\n",
       "0  18.0          8         307.0       130.0  3504.0          12.0     70   \n",
       "1  15.0          8         350.0       165.0  3693.0          11.5     70   \n",
       "2  18.0          8         318.0       150.0  3436.0          11.0     70   \n",
       "3  16.0          8         304.0       150.0  3433.0          12.0     70   \n",
       "4  17.0          8         302.0       140.0  3449.0          10.5     70   \n",
       "\n",
       "   origin                   car_name  \n",
       "0       1  chevrolet chevelle malibu  \n",
       "1       1          buick skylark 320  \n",
       "2       1         plymouth satellite  \n",
       "3       1              amc rebel sst  \n",
       "4       1                ford torino  "
      ]
     },
     "execution_count": 2,
     "metadata": {},
     "output_type": "execute_result"
    }
   ],
   "source": [
    "cars = pd.read_csv('../../../pandas/Juliana/EDA/data/cars_multivariate.csv', na_values=['?'])\n",
    "cars = cars[cars.horsepower.notnull()]\n",
    "print(cars.shape)\n",
    "cars.head()"
   ]
  },
  {
   "cell_type": "markdown",
   "metadata": {},
   "source": [
    "## Possible Scientific Questions? \n",
    "\n",
    "Given this data set what are some scientific questions we could answer?  \n",
    "\n",
    "<br>\n",
    "\n",
    "<ol>\n",
    "    <li>\n",
    "    <li>\n",
    "    <li>\n",
    "    <li>\n",
    "\n",
    "        \n",
    "</ol>\n",
    "\n",
    "<br><br><br><br><br><br><br>"
   ]
  },
  {
   "cell_type": "markdown",
   "metadata": {},
   "source": [
    "## Establishing the Details of your Hypothesis Testing \n",
    "\n",
    "<ol>\n",
    "<br><br>\n",
    "<li> <details>\n",
    "    <summary> <b>Scientific Question </b></summary>\n",
    "    Are the the mean miles per gallon of vehicles with 4, 6, and 8 cylinders the same?\n",
    "</details>\n",
    "<br><br>\n",
    "<li> <details>\n",
    "    <summary> <b>Null Hypothesis </b></summary>\n",
    "    The mean miles per gallon of vehicles with 4, 6, and 8 cylinders are the same.\n",
    "</details>\n",
    "<br><br>\n",
    "<li><details>\n",
    "    <summary> <b>Alternative Hypothesis </b></summary>\n",
    "    The mean miles per gallon of vehicles with 4, 6, and 8 cylinders are not the same.\n",
    "</details>\n",
    "<br><br>\n",
    "<li><details>\n",
    "    <summary> <b>Type of Test and Test Statistic </b></summary>\n",
    "    <ol>\n",
    "    <li>I would like to use a Welch's t-test.  What additional information do I need to get in my EDA to make sure that this is appropriate?\n",
    "    <li>In order to perform a Welch's t-test I will need the mean and standard deviation of my two populations.  Or just use scipy's function ttest_ind \n",
    "    </ol>\n",
    "</details>\n",
    "<br><br>\n",
    "<li> <details>\n",
    "    <summary> <b>What is the distribution under the null hypothesis?  </b></summary>\n",
    "    The distribution of the null hypothesis represents the difference between the mean of the two distributions. So, if we are comparing the mpg for 4 and 6 cylinder vehicles, it is the distribution of the difference of samples means where the assumption is that the mean of this distribution is zero.: $$\\mu_{4 cylinder} - \\mu_{6 cylinder} = 0$$\n",
    "</details>\n",
    "<br><br>\n",
    "<li> <details>\n",
    "    <summary> <b>Significance level </b></summary>\n",
    "    I will select a standard significance level of 0.05.  I will also use a bonferonni correction to account for the fact that I will be comparing multiple means.  \n",
    "</details>\n",
    "\n",
    "<br><br>\n",
    "<li> <details>\n",
    "    <summary> <b>Collect your Data, Compute p-value, Decide whether to reject the null hypothesis, State Conclusion </b></summary>\n",
    "   For the final steps we will have to do some work!  We will start with EDA, then perform the calculations for the statistical test. \n",
    "</details>\n",
    "\n",
    "</ol>\n",
    "\n",
    "## EDA \n",
    "\n",
    "Let's start by actually computing the average MPG for cars with different number of cylinders"
   ]
  },
  {
   "cell_type": "code",
   "execution_count": 3,
   "metadata": {
    "scrolled": true
   },
   "outputs": [
    {
     "data": {
      "text/plain": [
       "Text(0, 0.5, 'average mpg')"
      ]
     },
     "execution_count": 3,
     "metadata": {},
     "output_type": "execute_result"
    },
    {
     "data": {
      "image/png": "[encoded data removed]",
      "text/plain": [
       "<Figure size 432x288 with 1 Axes>"
      ]
     },
     "metadata": {},
     "output_type": "display_data"
    }
   ],
   "source": [
    "agg = cars.groupby('cylinders')['mpg'].mean()\n",
    "agg.plot(kind='bar').set_ylabel('average mpg')"
   ]
  },
  {
   "cell_type": "markdown",
   "metadata": {},
   "source": [
    "Ok, it looks like we have data for 3 and 5 cylinders.  We could potentially add this to our statistical test. \n",
    "\n",
    "It is important to know the sample size we have when performing a statistical test.  This may impact the actual test we perform. "
   ]
  },
  {
   "cell_type": "code",
   "execution_count": 4,
   "metadata": {},
   "outputs": [
    {
     "data": {
      "text/plain": [
       "cylinders\n",
       "3      4\n",
       "4    199\n",
       "5      3\n",
       "6     83\n",
       "8    103\n",
       "Name: mpg, dtype: int64"
      ]
     },
     "execution_count": 4,
     "metadata": {},
     "output_type": "execute_result"
    }
   ],
   "source": [
    "agg = cars.groupby('cylinders')['mpg'].count()\n",
    "agg"
   ]
  },
  {
   "cell_type": "code",
   "execution_count": 5,
   "metadata": {},
   "outputs": [
    {
     "data": {
      "text/plain": [
       "Text(0, 0.5, 'Frequency')"
      ]
     },
     "execution_count": 5,
     "metadata": {},
     "output_type": "execute_result"
    },
    {
     "data": {
      "image/png": "[encoded data removed]",
      "text/plain": [
       "<Figure size 432x288 with 1 Axes>"
      ]
     },
     "metadata": {},
     "output_type": "display_data"
    }
   ],
   "source": [
    "agg.plot(kind='bar').set_ylabel('Frequency')"
   ]
  },
  {
   "cell_type": "markdown",
   "metadata": {},
   "source": [
    "A few observations:\n",
    "\n",
    "1. We have very low sample sizes for 3 and 5 cylinders, so it makes sense to leave this out of our statisitical test.\n",
    "2. We have samples sizes >30. This indicates that we can safely use the Welch's t-test.  \n",
    "\n",
    "Let's clean up an EDA plot with our counts for the presentation"
   ]
  },
  {
   "cell_type": "code",
   "execution_count": 6,
   "metadata": {},
   "outputs": [
    {
     "data": {
      "image/png": "[encoded data removed]",
      "text/plain": [
       "<Figure size 432x288 with 1 Axes>"
      ]
     },
     "metadata": {},
     "output_type": "display_data"
    }
   ],
   "source": [
    "agg = cars[(cars['cylinders'] != 3 ) & (cars['cylinders'] != 5)].groupby('cylinders')['mpg'].mean()\n",
    "agg.plot(kind='bar').set_ylabel('average mpg');"
   ]
  },
  {
   "cell_type": "code",
   "execution_count": 7,
   "metadata": {},
   "outputs": [
    {
     "data": {
      "image/png": "[encoded data removed]",
      "text/plain": [
       "<Figure size 432x288 with 1 Axes>"
      ]
     },
     "metadata": {},
     "output_type": "display_data"
    }
   ],
   "source": [
    "agg = cars[(cars['cylinders'] != 3 ) & (cars['cylinders'] != 5)].groupby('cylinders')['mpg'].count()\n",
    "agg.plot(kind='bar').set_ylabel('Frequency');"
   ]
  },
  {
   "cell_type": "markdown",
   "metadata": {},
   "source": [
    "One EDA plot which I think is always beneficial is to check out a histograms of the distributions of your different classes. A few things to note about the figure below:\n",
    "\n",
    "1. Histograms are normalized! \n",
    "2. Histograms have opacity so that we can see all histograms even when they are overlapping.  "
   ]
  },
  {
   "cell_type": "code",
   "execution_count": 8,
   "metadata": {},
   "outputs": [
    {
     "data": {
      "image/png": "[encoded data removed]",
      "text/plain": [
       "<Figure size 432x288 with 1 Axes>"
      ]
     },
     "metadata": {},
     "output_type": "display_data"
    }
   ],
   "source": [
    "fig,ax = plt.subplots()\n",
    "ax.hist( cars[cars['cylinders'] == 4]['mpg'] , density = True, alpha = 0.5, label= '4 cylinders')\n",
    "ax.hist( cars[cars['cylinders'] == 6]['mpg'] , density = True, alpha = 0.5, label= '6 cylinders')\n",
    "ax.hist( cars[cars['cylinders'] == 8]['mpg'] , density = True, alpha = 0.5, label= '8 cylinders')\n",
    "ax.set_ylabel('Frequency')\n",
    "ax.set_xlabel('MPG')\n",
    "ax.legend();"
   ]
  },
  {
   "cell_type": "markdown",
   "metadata": {},
   "source": [
    "## Collect Data and Compute P-value\n",
    "\n",
    "Ok, we are ready to compute our p-values! I will compute three:\n",
    "\n",
    "1. 4 v 8 cylinders\n",
    "2. 4 v 6 cylinders\n",
    "3. 6 v 8 cylinders\n",
    "\n",
    "To compute these p-values I will take advantage of some built in functionality in the scipy stat's model"
   ]
  },
  {
   "cell_type": "code",
   "execution_count": 9,
   "metadata": {},
   "outputs": [
    {
     "data": {
      "text/plain": [
       "Ttest_indResult(statistic=29.25141465260915, pvalue=8.086398869531912e-90)"
      ]
     },
     "execution_count": 9,
     "metadata": {},
     "output_type": "execute_result"
    }
   ],
   "source": [
    "stats.ttest_ind( cars[cars['cylinders'] == 4]['mpg'], cars[cars['cylinders'] == 8]['mpg'] , equal_var= False )"
   ]
  },
  {
   "cell_type": "code",
   "execution_count": 10,
   "metadata": {},
   "outputs": [
    {
     "data": {
      "text/plain": [
       "Ttest_indResult(statistic=16.009512599181818, pvalue=6.244862257643604e-39)"
      ]
     },
     "execution_count": 10,
     "metadata": {},
     "output_type": "execute_result"
    }
   ],
   "source": [
    "stats.ttest_ind( cars[cars['cylinders'] == 4]['mpg'], cars[cars['cylinders'] == 6]['mpg'] , equal_var= False )"
   ]
  },
  {
   "cell_type": "code",
   "execution_count": 11,
   "metadata": {},
   "outputs": [
    {
     "data": {
      "text/plain": [
       "Ttest_indResult(statistic=9.927383318132753, pvalue=4.2085386320592715e-18)"
      ]
     },
     "execution_count": 11,
     "metadata": {},
     "output_type": "execute_result"
    }
   ],
   "source": [
    "stats.ttest_ind( cars[cars['cylinders'] == 6]['mpg'], cars[cars['cylinders'] == 8]['mpg'] , equal_var= False )"
   ]
  },
  {
   "cell_type": "markdown",
   "metadata": {},
   "source": [
    "## Determine Conclusion \n",
    "\n",
    "Ok, now that we have a p-value we need to compare it to our significance level. Since I am performing multiple hypothesis test, I will include a Bonferroni correction.  There for my signficance for each individual test will be $\\alpha = 0.05 / 3$"
   ]
  },
  {
   "cell_type": "code",
   "execution_count": 12,
   "metadata": {},
   "outputs": [
    {
     "data": {
      "text/plain": [
       "0.016666666666666666"
      ]
     },
     "execution_count": 12,
     "metadata": {},
     "output_type": "execute_result"
    }
   ],
   "source": [
    "0.05/3"
   ]
  },
  {
   "cell_type": "markdown",
   "metadata": {},
   "source": [
    "All p-values are less than my significance level. There for my conclusion is:\n",
    "\n",
    "> **I reject the null hypothesis that the mean mpg of 4, 6 and 8 cylinder vehicles are the same.**"
   ]
  },
  {
   "cell_type": "markdown",
   "metadata": {},
   "source": [
    "# Hypothesis Testing Case Study \n",
    "\n",
    "This case study in an extension of the [EDA-Case Study](https://github.com/GalvanizeDataScience/pandas-eda-case-study) from last week. In this case study you will ask scientific questions that can be answered given a data set, and answer these questions by performing a statistical test.  If you do not wish to use the data set from your case study you may use one of the datasets within Scikit-Learn, the [California Housing](https://scikit-learn.org/stable/modules/generated/sklearn.datasets.fetch_california_housing.html#sklearn.datasets.fetch_california_housing) dataset.  Information about accessing these datasets can be found [here](using_sklearn_datasets.md). \n",
    "\n",
    "The goals of this case study are: \n",
    "- Given data, create scientific questions that can be answered with your dataset.\n",
    "- Gain experience applying appropriate statistical tests to match your scientific question and data.\n",
    "- Gain experience performing statistical tests. \n",
    "- Practice explaining statistical concepts in group presentation\n",
    "\n",
    "## Data Sets\n",
    "\n",
    "Please visit the [EDA-Case Study](https://github.com/GalvanizeDataScience/pandas-eda-case-study) you started last week to review how to obtain the datasets for this case study.  Below is a summary of the datasets you had to choose from. We suggest you continue with datasets you started with in the EDA case study.  \n",
    "\n",
    "- **Trending YouTube Video Statistics:** YouTube (the video sharing website) maintains a list of the top-trending videos on its platform. This dataset includes several months of data on up to 200 daily trending YouTube videos from the US, Great Britain, Germany, Canada, France, and other countries. Each region’s data is in a separate file. Data includes the video title, channel title, publish time, tags, views, likes and dislikes, description, and comment count.\n",
    "- **Explore Transit Lines All Over the World:** This historical and international dataset documents how transit lines have evolved all over the world. Besides time, number of lines, and line length, the dataset contains spatial locations that could be mapped using a geospatial library in Python like GeoPandas or Folium.\n",
    "- **Health Nutrition and Population Statistic:** Compiled by the World Bank, this dataset includes 345 indicators, such as immunization rates, malnutrition prevalence, and vitamin A supplementation rates across 263 countries around the world. Data was collected on a yearly basis from 1960-2016.\n",
    "\n",
    "## Deliverables\n",
    "\n",
    "This afternoon your group will present your results of you statistical test to the class from a README in your Github repository. Your README markdown file should:\n",
    "\n",
    "- Include EDA associated with your hypothesis test as well as information on how you choose to treat missing values and outliers in your dataset.\n",
    "- Clearly state the details of the hypothesis test(s) your group performed:\n",
    "        - What scientific question(s) did you answer?\n",
    "        - What was your null and alternative hypothesis?\n",
    "        - Were statistical test did you choose and why? What's the distribution under the null hypothesis? \n",
    "        - What's your significance level? \n",
    "        - What's your p-value?\n",
    "        - Based on your results, what are the conclusions of your hypothesis test? \n",
    "\n",
    "For your presentation, be prepared to answer questions about your statistical test(s) and the theory behind it."
   ]
  },
  {
   "cell_type": "code",
   "execution_count": null,
   "metadata": {},
   "outputs": [],
   "source": []
  }
 ],
 "metadata": {
  "kernelspec": {
   "display_name": "Python 3",
   "language": "python",
   "name": "python3"
  },
  "language_info": {
   "codemirror_mode": {
    "name": "ipython",
    "version": 3
   },
   "file_extension": ".py",
   "mimetype": "text/x-python",
   "name": "python",
   "nbconvert_exporter": "python",
   "pygments_lexer": "ipython3",
   "version": "3.8.5"
  },
  "toc": {
   "base_numbering": 1,
   "nav_menu": {},
   "number_sections": true,
   "sideBar": true,
   "skip_h1_title": false,
   "title_cell": "Table of Contents",
   "title_sidebar": "Contents",
   "toc_cell": false,
   "toc_position": {},
   "toc_section_display": true,
   "toc_window_display": false
  }
 },
 "nbformat": 4,
 "nbformat_minor": 4
}
