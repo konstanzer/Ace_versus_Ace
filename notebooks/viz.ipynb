{
 "cells": [
  {
   "cell_type": "code",
   "execution_count": null,
   "id": "verified-ranch",
   "metadata": {},
   "outputs": [],
   "source": [
    "%matplotlib inline\n",
    "import pandas as pd\n",
    "import numpy as np\n",
    "import matplotlib.pyplot as plt\n",
    "import seaborn as sns\n"
   ]
  },
  {
   "cell_type": "code",
   "execution_count": null,
   "id": "fitting-garlic",
   "metadata": {},
   "outputs": [],
   "source": [
    "df = pd.read_csv('aces_2020.csv')\n",
    "cole = df[df.pitcher==543037]\n",
    "degrom = df[df.pitcher==594798]"
   ]
  },
  {
   "cell_type": "code",
   "execution_count": null,
   "id": "simplified-grain",
   "metadata": {},
   "outputs": [],
   "source": [
    "df"
   ]
  },
  {
   "cell_type": "code",
   "execution_count": null,
   "id": "adjacent-blogger",
   "metadata": {},
   "outputs": [],
   "source": [
    "cole.info()"
   ]
  },
  {
   "cell_type": "code",
   "execution_count": null,
   "id": "recreational-modern",
   "metadata": {},
   "outputs": [],
   "source": [
    "degrom.info()"
   ]
  },
  {
   "cell_type": "code",
   "execution_count": null,
   "id": "corporate-advertiser",
   "metadata": {},
   "outputs": [],
   "source": [
    "c = cole.groupby('pitch_type')\n",
    "d = degrom.groupby('pitch_type')\n",
    "\n",
    "ps = ['CH','CU','FF','SL']\n",
    "avg_cats = ['release_speed', 'release_spin_rate','pfx_x',\n",
    "            'pfx_z','vx0','vy0','vz0','ax','ay','az']\n",
    "\n",
    "agg = pd.concat([c.agg('sum')[ps].sum(axis=1),\n",
    "                d.agg('sum')[ps].sum(axis=1)], axis=1).rename(columns={0: \"Cole\", 1: \"deGrom\"})\n",
    "\n",
    "cole_mean = c.agg('mean')[avg_cats]\n",
    "degr_mean = d.agg('mean')[avg_cats]"
   ]
  },
  {
   "cell_type": "code",
   "execution_count": null,
   "id": "gross-piano",
   "metadata": {},
   "outputs": [],
   "source": [
    "df['release_speed']"
   ]
  },
  {
   "cell_type": "code",
   "execution_count": null,
   "id": "backed-proposition",
   "metadata": {},
   "outputs": [],
   "source": [
    "fig, ax = plt.subplots(figsize=(12,3))\n",
    "agg.T.plot(kind='barh', stacked=True, ax=ax)\n",
    "ax.legend(['Changeup','Curveball','Fastball','Slider'], bbox_to_anchor=(1, 1))\n",
    "ax.set_title('Frequency of various pitch types')\n",
    "ax.set_xlabel('total pitches thrown in 2020')\n",
    "plt.tight_layout()\n",
    "plt.savefig('stacked_bar.png')"
   ]
  },
  {
   "cell_type": "code",
   "execution_count": null,
   "id": "religious-lawsuit",
   "metadata": {},
   "outputs": [],
   "source": [
    "fig, ax = plt.subplots(figsize=(12, 3))\n",
    "agg.T.plot(kind='barh', stacked=True, ax=ax)\n",
    "ax.legend(['Changeup','Curveball','Fastball','Slider'], bbox_to_anchor=(1, 1))\n",
    "ax.set_title('Frequency of various pitch types')\n",
    "ax.set_xlabel('total pitches thrown in 2020')\n",
    "plt.tight_layout()\n",
    "plt.savefig('stacked_bar.png')"
   ]
  },
  {
   "cell_type": "code",
   "execution_count": null,
   "id": "neural-baseball",
   "metadata": {},
   "outputs": [],
   "source": [
    "fig, ax = plt.subplots(figsize=(5,8))\n",
    "\n",
    "ax.set_ylabel('Release speeds (all pitches)')\n",
    "ax.boxplot([cole.release_speed, degrom.release_speed], labels=['Cole', 'deGrom']);\n"
   ]
  },
  {
   "cell_type": "code",
   "execution_count": null,
   "id": "tested-preserve",
   "metadata": {},
   "outputs": [],
   "source": [
    "fig, ax = plt.subplots(figsize=(5,8))\n",
    "ax.set_ylabel('Horizontal movement (all pitches)')\n",
    "ax.boxplot([cole.pfx_x, degrom.pfx_x], labels=['Cole', 'deGrom']);"
   ]
  },
  {
   "cell_type": "code",
   "execution_count": null,
   "id": "ready-season",
   "metadata": {},
   "outputs": [],
   "source": [
    "fig, ax = plt.subplots(figsize=(5,8))\n",
    "ax.set_ylabel('Vertical movement (all pitches)')\n",
    "ax.boxplot([cole.pfx_z, degrom.pfx_z], labels=['Cole', 'deGrom']);"
   ]
  },
  {
   "cell_type": "code",
   "execution_count": null,
   "id": "useful-oriental",
   "metadata": {},
   "outputs": [],
   "source": [
    "#Draw a nested boxplot\n",
    "ax = sns.boxplot(x=df[['release_speed']], y=\"value\", hue=\"player_name\",\n",
    "                 data=df, linewidth=2.5)"
   ]
  },
  {
   "cell_type": "code",
   "execution_count": null,
   "id": "promising-percentage",
   "metadata": {},
   "outputs": [],
   "source": [
    "cole.hist(figsize=(10, 7), grid=False)\n",
    "plt.tight_layout()\n",
    "degrom.hist(figsize=(10, 7), grid=False, color='orange')\n",
    "plt.tight_layout()"
   ]
  },
  {
   "cell_type": "code",
   "execution_count": null,
   "id": "usual-defeat",
   "metadata": {},
   "outputs": [],
   "source": [
    "fig, ax = plt.subplots(figsize=(12,3))\n",
    "sns.set_theme(style='ticks')\n",
    "sns.color_palette('hls', 8)\n",
    "ax.set_title('Gerrit Cole: speeds by type of pitch')\n",
    "ax.set_xlabel('Speed out of hand (mph)')\n",
    "sns.kdeplot(cole.release_speed, hue=cole.pitch_type, fill=True, alpha=.5, linewidth=2)\n",
    "#Make sure legend labels are in order\n",
    "ax.legend(['Curveball','Changeup','Slider','Fastball'], bbox_to_anchor=(1, 1))\n",
    "plt.tight_layout()\n",
    "plt.savefig('cole_speed_density.png')"
   ]
  },
  {
   "cell_type": "code",
   "execution_count": null,
   "id": "welsh-bangkok",
   "metadata": {},
   "outputs": [],
   "source": [
    "fig, ax = plt.subplots(figsize=(12,3))\n",
    "sns.set_theme(style='ticks')\n",
    "sns.color_palette('hls', 8)\n",
    "ax.set_title('Jacob deGrom: speeds by type of pitch')\n",
    "ax.set_xlabel('Speed out of hand')\n",
    "sns.kdeplot(degrom.release_speed, hue=degrom.pitch_type, fill=True, alpha=.5,linewidth=2)\n",
    "#Make sure legend labels are in order\n",
    "ax.legend(['Curveball','Changeup', 'Fastball','Slider'], bbox_to_anchor=(1, 1))\n",
    "plt.tight_layout()\n",
    "plt.savefig('degrom_speed_density.png')"
   ]
  },
  {
   "cell_type": "code",
   "execution_count": null,
   "id": "religious-google",
   "metadata": {},
   "outputs": [],
   "source": [
    "fig, ax = plt.subplots(figsize=(12,3))\n",
    "sns.set_theme(style='ticks')\n",
    "sns.color_palette('hls', 8)\n",
    "ax.set_title('Gerrit Cole: spin rates by type of pitch')\n",
    "ax.set_xlabel('Spin rate out of hand')\n",
    "sns.kdeplot(cole.release_spin_rate, hue=cole.pitch_type, fill=True, alpha=.5, linewidth=2)\n",
    "#Make sure legend labels are in order\n",
    "ax.legend(['Curveball','Changeup','Slider','Fastball'], bbox_to_anchor=(1, 1))\n",
    "plt.tight_layout()\n",
    "plt.savefig('cole_spin_density.png')"
   ]
  },
  {
   "cell_type": "code",
   "execution_count": null,
   "id": "controlled-stanford",
   "metadata": {},
   "outputs": [],
   "source": [
    "fig, ax = plt.subplots(figsize=(12,3))\n",
    "sns.set_theme(style='ticks')\n",
    "sns.color_palette('hls', 8)\n",
    "ax.set_title('Jacob deGrom: spin rates by type of pitch')\n",
    "ax.set_xlabel('Spin rate out of hand')\n",
    "sns.kdeplot(degrom.release_spin_rate, hue=degrom.pitch_type, fill=True, alpha=.5, clip=(1230, 3100), linewidth=2)\n",
    "#Make sure legend labels are in order\n",
    "ax.legend(['Curveball','Changeup', 'Fastball','Slider'], bbox_to_anchor=(1, 1))\n",
    "plt.tight_layout()\n",
    "plt.savefig('degrom_spin_density.png')"
   ]
  },
  {
   "cell_type": "code",
   "execution_count": null,
   "id": "graduate-carrier",
   "metadata": {},
   "outputs": [],
   "source": [
    "fig, ax = plt.subplots(figsize=(12,3))\n",
    "sns.set_theme(style='ticks')\n",
    "sns.color_palette('hls', 8)\n",
    "ax.set_title('Gerrit Cole: horizontal movement')\n",
    "ax.set_xlabel('Horizontal movement (in.) of the pitch between the release point and home plate.')\n",
    "sns.kdeplot(cole.pfx_x, hue=cole.pitch_type, fill=True, alpha=.5, linewidth=2)\n",
    "#Make sure legend labels are in order\n",
    "ax.legend(['Curveball','Changeup','Slider','Fastball'], bbox_to_anchor=(1, 1))\n",
    "plt.tight_layout()\n",
    "plt.savefig('cole_lateral_density.png')"
   ]
  },
  {
   "cell_type": "code",
   "execution_count": null,
   "id": "hired-crazy",
   "metadata": {},
   "outputs": [],
   "source": [
    "fig, ax = plt.subplots(figsize=(12,3))\n",
    "sns.set_theme(style='ticks')\n",
    "sns.color_palette('hls', 8)\n",
    "ax.set_title('Jacob deGrom: horizontal movement')\n",
    "ax.set_xlabel('Horizontal movement (in.) of the pitch between the release point and home plate.')\n",
    "sns.kdeplot(degrom.pfx_x, hue=degrom.pitch_type, fill=True, alpha=.5, linewidth=2)\n",
    "#Make sure legend labels are in order\n",
    "ax.legend(['Curveball','Changeup', 'Fastball','Slider'], bbox_to_anchor=(1, 1))\n",
    "plt.tight_layout()\n",
    "plt.savefig('degrom_lateral_density.png')"
   ]
  },
  {
   "cell_type": "code",
   "execution_count": null,
   "id": "proved-energy",
   "metadata": {},
   "outputs": [],
   "source": [
    "sns.set_theme(style='ticks')\n",
    "sns.color_palette('hls', 8)\n",
    "sns.pairplot(df[['player_name', 'release_speed', 'release_spin_rate']], hue='player_name')"
   ]
  },
  {
   "cell_type": "code",
   "execution_count": null,
   "id": "assumed-singing",
   "metadata": {},
   "outputs": [],
   "source": [
    "sns.set_theme(style='ticks')\n",
    "sns.color_palette('hls', 8)\n",
    "sns.pairplot(cole[['pitch_type', 'release_speed', 'release_spin_rate', 'pfx_x', 'pfx_z']], hue='pitch_type')"
   ]
  },
  {
   "cell_type": "code",
   "execution_count": null,
   "id": "chicken-diving",
   "metadata": {},
   "outputs": [],
   "source": [
    "sns.set_theme(style='ticks')\n",
    "sns.color_palette('hls', 8)\n",
    "sns.pairplot(degrom[['pitch_type', 'release_speed', 'release_spin_rate', 'pfx_x', 'pfx_z']], hue='pitch_type')"
   ]
  },
  {
   "cell_type": "code",
   "execution_count": null,
   "id": "promotional-sugar",
   "metadata": {},
   "outputs": [],
   "source": [
    "g=sns.FacetGrid(df, col='pitch_type',  row='pitcher')\n",
    "g.map(sns.scatterplot, 'release_speed', 'release_spin_rate');"
   ]
  },
  {
   "cell_type": "code",
   "execution_count": null,
   "id": "sound-excess",
   "metadata": {},
   "outputs": [],
   "source": [
    "h=sns.FacetGrid(df, col='pitch_type',  row='pitcher')\n",
    "h.map(plt.hist, 'release_speed');"
   ]
  }
 ],
 "metadata": {
  "kernelspec": {
   "display_name": "Python 3",
   "language": "python",
   "name": "python3"
  },
  "language_info": {
   "codemirror_mode": {
    "name": "ipython",
    "version": 3
   },
   "file_extension": ".py",
   "mimetype": "text/x-python",
   "name": "python",
   "nbconvert_exporter": "python",
   "pygments_lexer": "ipython3",
   "version": "3.8.5"
  }
 },
 "nbformat": 4,
 "nbformat_minor": 5
}
