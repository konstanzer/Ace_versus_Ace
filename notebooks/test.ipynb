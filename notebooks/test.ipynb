{
 "cells": [
  {
   "cell_type": "code",
   "execution_count": null,
   "id": "acceptable-bumper",
   "metadata": {},
   "outputs": [],
   "source": [
    "import scipy.stats as scs\n",
    "import pandas as pd\n",
    "import numpy as np\n",
    "import matplotlib.pyplot as plt"
   ]
  },
  {
   "cell_type": "code",
   "execution_count": null,
   "id": "finite-horizontal",
   "metadata": {},
   "outputs": [],
   "source": [
    "df = pd.read_csv('aces_2020.csv')\n",
    "cole = df[df.pitcher==543037]\n",
    "degrom = df[df.pitcher==594798]"
   ]
  },
  {
   "cell_type": "code",
   "execution_count": null,
   "id": "noble-blade",
   "metadata": {},
   "outputs": [],
   "source": [
    "df.release_speed.min()"
   ]
  },
  {
   "cell_type": "code",
   "execution_count": null,
   "id": "subtle-intake",
   "metadata": {},
   "outputs": [],
   "source": [
    "c = cole.groupby('pitch_type')\n",
    "d = degrom.groupby('pitch_type')\n",
    "\n",
    "ps = ['CH','CU','FF','SL']\n",
    "avg_cats = ['release_speed', 'release_spin_rate','pfx_x',\n",
    "            'pfx_z','vx0','vy0','vz0','ax','ay','az']\n",
    "\n",
    "agg = pd.concat([c.agg('sum')[ps].sum(axis=1),\n",
    "                d.agg('sum')[ps].sum(axis=1)], axis=1).rename(columns={0: \"Cole\", 1: \"deGrom\"})\n",
    "\n",
    "cole_mean = c.agg('mean')[avg_cats]\n",
    "degr_mean = d.agg('mean')[avg_cats]"
   ]
  },
  {
   "cell_type": "code",
   "execution_count": null,
   "id": "automotive-steering",
   "metadata": {},
   "outputs": [],
   "source": [
    "ff_mean_spin = cole_mean.release_spin_rate['FF']"
   ]
  },
  {
   "cell_type": "code",
   "execution_count": null,
   "id": "southeast-effectiveness",
   "metadata": {},
   "outputs": [],
   "source": [
    "degr_ff = degrom[degrom.pitch_type=='FF']\n",
    "cole_ff = cole[cole.pitch_type=='FF']\n",
    "\n",
    "degr_sl = degrom[degrom.pitch_type=='SL']\n",
    "cole_sl = cole[cole.pitch_type=='SL']\n",
    "\n",
    "degr_cu = degrom[degrom.pitch_type=='CU']\n",
    "cole_cu = cole[cole.pitch_type=='CU']\n",
    "\n",
    "degr_ch = degrom[degrom.pitch_type=='CH']\n",
    "cole_ch = cole[cole.pitch_type=='CH']"
   ]
  },
  {
   "cell_type": "code",
   "execution_count": null,
   "id": "informative-broadcast",
   "metadata": {},
   "outputs": [],
   "source": [
    "#Hypothesis test of fastball spin. Use mean spin rate.\n",
    "fig, ax = plt.subplots(figsize=(7,5))\n",
    "x=np.linspace(2000, 3000, 25)\n",
    "ax.hist(cole_ff.release_spin_rate, alpha=.6, bins=x, label='Cole')\n",
    "ax.hist(degr_ff.release_spin_rate, alpha=.6, bins=x, label='deGrom')\n",
    "ax.legend()\n",
    "\n",
    "ff_mean_spin_co = cole_mean.release_spin_rate['FF']\n",
    "ff_mean_spin_de = degr_mean.release_spin_rate['FF']\n",
    "ff_spin_res = scs.ttest_ind(cole_ff.release_spin_rate, degr_ff.release_spin_rate, equal_var=False)\n",
    "(result, f'Cole: {ff_mean_spin_co}', f'deGrom: {ff_mean_spin_de}')"
   ]
  },
  {
   "cell_type": "code",
   "execution_count": null,
   "id": "funky-belly",
   "metadata": {},
   "outputs": [],
   "source": [
    "#Hypothesis test of fastball speed. Use mean spin rate.\n",
    "fig, ax = plt.subplots(figsize=(7,5))\n",
    "x=np.linspace(80, 102, 50)\n",
    "ax.hist(cole_ff.release_speed, alpha=.6, bins=x, label='Cole')\n",
    "ax.hist(degr_ff.release_speed, alpha=.6, bins=x, label='deGrom')\n",
    "ax.legend()\n",
    "\n",
    "ff_mean_speed_co = cole_mean.release_speed['FF']\n",
    "ff_mean_speed_de = degr_mean.release_speed['FF']\n",
    "ff_spin_res = scs.ttest_ind(cole_ff.release_speed, degr_ff.release_speed, equal_var=False)\n",
    "(result, ff_mean_spin)\n",
    "(result, f'Cole: {ff_mean_spin_co}', f'deGrom: {ff_mean_spin_de}')"
   ]
  },
  {
   "cell_type": "code",
   "execution_count": null,
   "id": "protected-entrance",
   "metadata": {},
   "outputs": [],
   "source": [
    "#Hypothesis test of fastball break. Use mean spin rate.\n",
    "fig, ax = plt.subplots(figsize=(7,5))\n",
    "x=np.linspace(-2, 0, 25)\n",
    "ax.hist(cole_ff.pfx_x, alpha=.6, bins=x, label='Cole')\n",
    "ax.hist(degr_ff.pfx_x, alpha=.6, bins=x, label='deGrom')\n",
    "ax.legend()\n",
    "\n",
    "ff_mean_break = cole_mean.pfx_x['FF']\n",
    "ff_break_res = scs.ttest_ind(cole_ff.pfx_x, degr_ff.pfx_x, equal_var=False)\n",
    "(result, ff_mean_break)"
   ]
  },
  {
   "cell_type": "code",
   "execution_count": null,
   "id": "postal-saying",
   "metadata": {},
   "outputs": [],
   "source": [
    "#Hypothesis test of fastball rise. Use mean spin rate.\n",
    "fig, ax = plt.subplots(figsize=(7,5))\n",
    "x=np.linspace(.5, 2.5, 25)\n",
    "ax.hist(cole_ff.pfx_z, alpha=.6, bins=x, label='Cole')\n",
    "ax.hist(degr_ff.pfx_z, alpha=.6, bins=x, label='deGrom')\n",
    "ax.legend()\n",
    "\n",
    "ff_mean_break2 = cole_mean.pfx_z['FF']\n",
    "ff_break2_res = scs.ttest_ind(cole_ff.pfx_z, degr_ff.pfx_z, equal_var=False)\n",
    "(result, ff_mean_break2)"
   ]
  },
  {
   "cell_type": "code",
   "execution_count": null,
   "id": "macro-mattress",
   "metadata": {},
   "outputs": [],
   "source": [
    "#Hypothesis test of slider spin. Use mean spin rate.\n",
    "fig, ax = plt.subplots(figsize=(7,5))\n",
    "x=np.linspace(2000, 3000, 25)\n",
    "ax.hist(cole_sl.release_spin_rate, alpha=.6, bins=x, label='Cole')\n",
    "ax.hist(degr_sl.release_spin_rate, alpha=.6, bins=x, label='deGrom')\n",
    "ax.legend()\n",
    "\n",
    "sl_mean_spin = cole_mean.release_spin_rate['SL']\n",
    "sl_spin_res = scs.ttest_ind(cole_sl.release_spin_rate, degr_sl.release_spin_rate, equal_var=False)\n",
    "(result, sl_mean_spin)"
   ]
  },
  {
   "cell_type": "code",
   "execution_count": null,
   "id": "actual-wallet",
   "metadata": {},
   "outputs": [],
   "source": [
    "#Hypothesis test of slider speed. Use mean spin rate.\n",
    "fig, ax = plt.subplots(figsize=(7,5))\n",
    "x=np.linspace(83, 98, 25)\n",
    "ax.hist(cole_sl.release_speed, alpha=.6, bins=x, label='Cole')\n",
    "ax.hist(degr_sl.release_speed, alpha=.6, bins=x, label='deGrom')\n",
    "ax.legend()\n",
    "\n",
    "sl_mean_spin = cole_mean.release_speed['SL']\n",
    "sl_spin_res = scs.ttest_ind(cole_sl.release_speed, degr_sl.release_speed, equal_var=False)\n",
    "(result, sl_mean_spin)"
   ]
  },
  {
   "cell_type": "code",
   "execution_count": null,
   "id": "independent-disabled",
   "metadata": {},
   "outputs": [],
   "source": [
    "#Hypothesis test of slider break. Use mean spin rate.\n",
    "fig, ax = plt.subplots(figsize=(7,5))\n",
    "x=np.linspace(-.2, 1, 25)\n",
    "ax.hist(cole_sl.pfx_x, alpha=.6, bins=x, label='Cole')\n",
    "ax.hist(degr_sl.pfx_x, alpha=.6, bins=x, label='deGrom')\n",
    "ax.legend()\n",
    "\n",
    "sl_mean_break = cole_mean.pfx_x['SL']\n",
    "sl_break_res = scs.ttest_ind(cole_sl.pfx_x, degr_sl.pfx_x, equal_var=False)\n",
    "(result, sl_mean_break)"
   ]
  },
  {
   "cell_type": "code",
   "execution_count": null,
   "id": "dietary-tutorial",
   "metadata": {},
   "outputs": [],
   "source": [
    "#Hypothesis test of slider drop. Use mean spin rate.\n",
    "fig, ax = plt.subplots(figsize=(7,5))\n",
    "x=np.linspace(-.5, 1.5, 25)\n",
    "ax.hist(cole_sl.pfx_z, alpha=.6, bins=x, label='Cole')\n",
    "ax.hist(degr_sl.pfx_z, alpha=.6, bins=x, label='deGrom')\n",
    "ax.legend()\n",
    "\n",
    "sl_mean_break2 = cole_mean.pfx_z['SL']\n",
    "sl_break2_res = scs.ttest_ind(cole_sl.pfx_z, degr_sl.pfx_z, equal_var=False)\n",
    "(result, sl_mean_break2)"
   ]
  },
  {
   "cell_type": "code",
   "execution_count": null,
   "id": "comparable-cleveland",
   "metadata": {},
   "outputs": [],
   "source": []
  }
 ],
 "metadata": {
  "kernelspec": {
   "display_name": "Python 3",
   "language": "python",
   "name": "python3"
  },
  "language_info": {
   "codemirror_mode": {
    "name": "ipython",
    "version": 3
   },
   "file_extension": ".py",
   "mimetype": "text/x-python",
   "name": "python",
   "nbconvert_exporter": "python",
   "pygments_lexer": "ipython3",
   "version": "3.8.5"
  }
 },
 "nbformat": 4,
 "nbformat_minor": 5
}
