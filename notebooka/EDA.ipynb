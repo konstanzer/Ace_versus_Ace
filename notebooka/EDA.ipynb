{
 "cells": [
  {
   "cell_type": "code",
   "execution_count": 2,
   "metadata": {
    "id": "XcNmFlUTfvP_"
   },
   "outputs": [
    {
     "data": {
      "text/plain": [
       "<module 'bsscraper' from '/Users/stevennewton/Documents/GitHub/MLB_Statcast/notebooka/bsscraper.py'>"
      ]
     },
     "execution_count": 2,
     "metadata": {},
     "output_type": "execute_result"
    }
   ],
   "source": [
    "import bsscraper\n",
    "import importlib\n",
    "importlib.reload(bsscraper)"
   ]
  },
  {
   "cell_type": "code",
   "execution_count": null,
   "metadata": {},
   "outputs": [],
   "source": [
    "# Database for two years and two teams\n",
    "bsscraper.make_database('NYY_NYM_19_20.db', [2019,2020], ['NYY,NYM'])"
   ]
  },
  {
   "cell_type": "code",
   "execution_count": 3,
   "metadata": {},
   "outputs": [
    {
     "data": {
      "text/plain": [
       "('NYY_2020.csv', <http.client.HTTPMessage at 0x7fc722c342b0>)"
      ]
     },
     "execution_count": 3,
     "metadata": {},
     "output_type": "execute_result"
    }
   ],
   "source": [
    "# Csv for 2020 Yankees only.\n",
    "bsscraper.savant_call(2020, \"NYY\", csv=True)"
   ]
  },
  {
   "cell_type": "code",
   "execution_count": 6,
   "metadata": {
    "id": "4CGHYlqnf4WU"
   },
   "outputs": [
    {
     "data": {
      "text/html": [
       "<div>\n",
       "<style scoped>\n",
       "    .dataframe tbody tr th:only-of-type {\n",
       "        vertical-align: middle;\n",
       "    }\n",
       "\n",
       "    .dataframe tbody tr th {\n",
       "        vertical-align: top;\n",
       "    }\n",
       "\n",
       "    .dataframe thead th {\n",
       "        text-align: right;\n",
       "    }\n",
       "</style>\n",
       "<table border=\"1\" class=\"dataframe\">\n",
       "  <thead>\n",
       "    <tr style=\"text-align: right;\">\n",
       "      <th></th>\n",
       "      <th>player_name</th>\n",
       "      <th>vx0</th>\n",
       "    </tr>\n",
       "  </thead>\n",
       "  <tbody>\n",
       "    <tr>\n",
       "      <th>0</th>\n",
       "      <td>Aroldis Chapman</td>\n",
       "      <td>1.657994</td>\n",
       "    </tr>\n",
       "    <tr>\n",
       "      <th>1</th>\n",
       "      <td>Aroldis Chapman</td>\n",
       "      <td>-0.195399</td>\n",
       "    </tr>\n",
       "    <tr>\n",
       "      <th>2</th>\n",
       "      <td>Aroldis Chapman</td>\n",
       "      <td>1.476399</td>\n",
       "    </tr>\n",
       "    <tr>\n",
       "      <th>3</th>\n",
       "      <td>Aroldis Chapman</td>\n",
       "      <td>1.765126</td>\n",
       "    </tr>\n",
       "    <tr>\n",
       "      <th>4</th>\n",
       "      <td>Aroldis Chapman</td>\n",
       "      <td>-0.735986</td>\n",
       "    </tr>\n",
       "    <tr>\n",
       "      <th>...</th>\n",
       "      <td>...</td>\n",
       "      <td>...</td>\n",
       "    </tr>\n",
       "    <tr>\n",
       "      <th>69003</th>\n",
       "      <td>Jacob deGrom</td>\n",
       "      <td>8.090785</td>\n",
       "    </tr>\n",
       "    <tr>\n",
       "      <th>69004</th>\n",
       "      <td>Jacob deGrom</td>\n",
       "      <td>3.951370</td>\n",
       "    </tr>\n",
       "    <tr>\n",
       "      <th>69005</th>\n",
       "      <td>Jacob deGrom</td>\n",
       "      <td>8.955589</td>\n",
       "    </tr>\n",
       "    <tr>\n",
       "      <th>69006</th>\n",
       "      <td>Jacob deGrom</td>\n",
       "      <td>7.089980</td>\n",
       "    </tr>\n",
       "    <tr>\n",
       "      <th>69007</th>\n",
       "      <td>Jacob deGrom</td>\n",
       "      <td>5.352789</td>\n",
       "    </tr>\n",
       "  </tbody>\n",
       "</table>\n",
       "<p>69008 rows × 2 columns</p>\n",
       "</div>"
      ],
      "text/plain": [
       "           player_name       vx0\n",
       "0      Aroldis Chapman  1.657994\n",
       "1      Aroldis Chapman -0.195399\n",
       "2      Aroldis Chapman  1.476399\n",
       "3      Aroldis Chapman  1.765126\n",
       "4      Aroldis Chapman -0.735986\n",
       "...                ...       ...\n",
       "69003     Jacob deGrom  8.090785\n",
       "69004     Jacob deGrom  3.951370\n",
       "69005     Jacob deGrom  8.955589\n",
       "69006     Jacob deGrom  7.089980\n",
       "69007     Jacob deGrom  5.352789\n",
       "\n",
       "[69008 rows x 2 columns]"
      ]
     },
     "execution_count": 6,
     "metadata": {},
     "output_type": "execute_result"
    }
   ],
   "source": [
    "import sqlite3\n",
    "import pandas as pd\n",
    "\n",
    "# Connect to, query, and load database into dataframe.\n",
    "conn = sqlite3.connect('NYY_NYM_19_20.db')\n",
    "df = pd.read_sql_query('SELECT player_name, vx0 FROM statcast;', conn)\n",
    "conn.close()\n",
    "df"
   ]
  },
  {
   "cell_type": "code",
   "execution_count": 8,
   "metadata": {},
   "outputs": [
    {
     "data": {
      "text/plain": [
       "'approximately 66600 pitches'"
      ]
     },
     "execution_count": 8,
     "metadata": {},
     "output_type": "execute_result"
    }
   ],
   "source": [
    "#To verify this has every pitch, I'll estimate how many rows I expect for 2 teams over 2 years\n",
    "est_pitches_per_game=150\n",
    "games=162+60   # shortened 2020 season\n",
    "f'approximately {est_pitches_per_game*games*2} pitches'"
   ]
  },
  {
   "cell_type": "code",
   "execution_count": null,
   "metadata": {},
   "outputs": [],
   "source": []
  },
  {
   "cell_type": "code",
   "execution_count": null,
   "metadata": {},
   "outputs": [],
   "source": []
  },
  {
   "cell_type": "code",
   "execution_count": null,
   "metadata": {},
   "outputs": [],
   "source": []
  }
 ],
 "metadata": {
  "colab": {
   "name": "savant_scraper.ipynb",
   "provenance": []
  },
  "kernelspec": {
   "display_name": "Python 3",
   "language": "python",
   "name": "python3"
  },
  "language_info": {
   "codemirror_mode": {
    "name": "ipython",
    "version": 3
   },
   "file_extension": ".py",
   "mimetype": "text/x-python",
   "name": "python",
   "nbconvert_exporter": "python",
   "pygments_lexer": "ipython3",
   "version": "3.8.5"
  }
 },
 "nbformat": 4,
 "nbformat_minor": 4
}
